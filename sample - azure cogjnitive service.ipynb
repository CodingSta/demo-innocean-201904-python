{
 "cells": [
  {
   "cell_type": "markdown",
   "metadata": {},
   "source": [
    "# Computer Vision API of Microsoft Azure\n",
    "\n",
    "이미지에서 풍부한 정보를 추출하여 시각적 데이터를 분류 및 처리하고, 이미지를 기계 보조 방식으로 처리하여 서비스를 선별합니다.\n",
    "\n",
    "+ 공식 사이트 : https://azure.microsoft.com/ko-kr/services/cognitive-services/computer-vision/\n",
    "+ 공식 문서 : https://docs.microsoft.com/ko-kr/azure/cognitive-services/computer-vision/tutorials/pythontutorial\n",
    "+ API 문서 : https://westus.dev.cognitive.microsoft.com/docs/services/5adf991815e1060e6355ad44/operations/56f91f2e778daf14a499e1fa\n",
    "\n",
    "## 지원 옵션\n",
    "\n",
    "1. visualFeatures\n",
    "    + Adult - detects if the image is pornographic in nature (depicts nudity or a sex act). Sexually suggestive content is also detected.\n",
    "    + Brands - detects various brands within an image, including the approximate location. The Brands argument is only available in English.\n",
    "    + Categories - categorizes image content according to a taxonomy defined in documentation.\n",
    "    + Color - determines the accent color, dominant color, and whether an image is black&white.\n",
    "    + Description - describes the image content with a complete sentence in supported languages.\n",
    "    + Faces - detects if faces are present. If present, generate coordinates, gender and age.\n",
    "    + ImageType - detects if image is clipart or a line drawing.\n",
    "    + Objects - detects various objects within an image, including the approximate location. The Objects argument is only available in English.\n",
    "    + Tags - tags the image with a detailed list of words related to the image content.\n",
    "2. details\n",
    "    + Celebrities - identifies celebrities if detected in the image.\n",
    "    + Landmarks - identifies landmarks if detected in the image.\n",
    "3. language\n",
    "    + en - English, Default.\n",
    "    + es - Spanish.\n",
    "    + ja - Japanese.\n",
    "    + pt - Portuguese.\n",
    "    + zh - Simplified Chinese."
   ]
  },
  {
   "cell_type": "code",
   "execution_count": null,
   "metadata": {},
   "outputs": [],
   "source": []
  },
  {
   "cell_type": "markdown",
   "metadata": {},
   "source": [
    "## Demo"
   ]
  },
  {
   "cell_type": "code",
   "execution_count": 1,
   "metadata": {},
   "outputs": [],
   "source": [
    "import requests"
   ]
  },
  {
   "cell_type": "code",
   "execution_count": 2,
   "metadata": {},
   "outputs": [],
   "source": [
    "COGNITIVE_SERVICE_SUBSCRIPTION_KEY = \"---\"  # FIXME: 강사의 Api Key\n",
    "\n",
    "REGION = \"koreacentral\"  # 데이터 센터 위치, API 생성 시에 확인 가능\n",
    "HOST = \"https://{}.api.cognitive.microsoft.com/vision/v2.0\".format(REGION)"
   ]
  },
  {
   "cell_type": "code",
   "execution_count": null,
   "metadata": {},
   "outputs": [],
   "source": []
  },
  {
   "cell_type": "code",
   "execution_count": 3,
   "metadata": {},
   "outputs": [],
   "source": [
    "def analyze_image(image_path):\n",
    "    endpoint = \"{}/analyze\".format(HOST)\n",
    "\n",
    "    params = {\n",
    "        # 'visualFeatures': 'Adult,Brands,Categories,Color,Description,Faces,ImageType,Objects,Tags',\n",
    "        'visualFeatures': 'Brands,Categories,Color,Description,Faces,ImageType,Objects,Tags',\n",
    "        'details': 'Celebrities,Landmarks',\n",
    "    }\n",
    "\n",
    "    headers = {\n",
    "        'Ocp-Apim-Subscription-Key': COGNITIVE_SERVICE_SUBSCRIPTION_KEY,\n",
    "    }\n",
    "\n",
    "    with open(image_path,'rb') as f:\n",
    "        files = {'upload_file': f}\n",
    "        res = requests.post(endpoint, params=params, headers=headers, files=files)\n",
    "        res.raise_for_status()\n",
    "        return res.json()"
   ]
  },
  {
   "cell_type": "code",
   "execution_count": 4,
   "metadata": {
    "collapsed": true
   },
   "outputs": [
    {
     "data": {
      "text/plain": [
       "{'categories': [{'name': 'abstract_', 'score': 0.00390625},\n",
       "  {'name': 'outdoor_', 'score': 0.01953125, 'detail': {'landmarks': []}},\n",
       "  {'name': 'sky_cloud', 'score': 0.29296875}],\n",
       " 'color': {'dominantColorForeground': 'Brown',\n",
       "  'dominantColorBackground': 'Grey',\n",
       "  'dominantColors': ['Grey', 'Brown'],\n",
       "  'accentColor': 'A47127',\n",
       "  'isBwImg': False,\n",
       "  'isBWImg': False},\n",
       " 'imageType': {'clipArtType': 0, 'lineDrawingType': 0},\n",
       " 'tags': [{'name': 'sky', 'confidence': 0.9958584904670715},\n",
       "  {'name': 'outdoor', 'confidence': 0.9941646456718445},\n",
       "  {'name': 'person', 'confidence': 0.9063910841941833},\n",
       "  {'name': 'sunset', 'confidence': 0.9063910841941833},\n",
       "  {'name': 'sunrise', 'confidence': 0.35325025721953224},\n",
       "  {'name': 'city', 'confidence': 0.29162928543494354},\n",
       "  {'name': 'building', 'confidence': 0.22805115834025455}],\n",
       " 'description': {'tags': ['outdoor',\n",
       "   'building',\n",
       "   'person',\n",
       "   'man',\n",
       "   'standing',\n",
       "   'front',\n",
       "   'water',\n",
       "   'walking',\n",
       "   'city',\n",
       "   'woman',\n",
       "   'holding',\n",
       "   'people',\n",
       "   'large',\n",
       "   'street',\n",
       "   'riding',\n",
       "   'board',\n",
       "   'young',\n",
       "   'surfing',\n",
       "   'track',\n",
       "   'boat',\n",
       "   'train',\n",
       "   'white'],\n",
       "  'captions': [{'text': 'a person standing in front of a building',\n",
       "    'confidence': 0.8977127766161264}]},\n",
       " 'faces': [],\n",
       " 'objects': [{'rectangle': {'x': 413, 'y': 308, 'w': 76, 'h': 126},\n",
       "   'object': 'person',\n",
       "   'confidence': 0.762},\n",
       "  {'rectangle': {'x': 460, 'y': 313, 'w': 98, 'h': 121},\n",
       "   'object': 'person',\n",
       "   'confidence': 0.545},\n",
       "  {'rectangle': {'x': 433, 'y': 103, 'w': 204, 'h': 311},\n",
       "   'object': 'building',\n",
       "   'confidence': 0.502}],\n",
       " 'brands': [],\n",
       " 'requestId': '046396e8-9f6e-4ab3-a055-b3c8c8f565ba',\n",
       " 'metadata': {'width': 640, 'height': 435, 'format': 'Jpeg'}}"
      ]
     },
     "execution_count": 4,
     "metadata": {},
     "output_type": "execute_result"
    }
   ],
   "source": [
    "분석결과 = analyze_image(\"./photos/t3.daumcdn.jpg\")\n",
    "분석결과"
   ]
  },
  {
   "cell_type": "code",
   "execution_count": null,
   "metadata": {},
   "outputs": [],
   "source": []
  },
  {
   "cell_type": "code",
   "execution_count": 5,
   "metadata": {},
   "outputs": [],
   "source": [
    "def describe_image(image_path):\n",
    "    endpoint = \"{}/describe\".format(HOST)\n",
    "\n",
    "    headers = {\n",
    "        'Ocp-Apim-Subscription-Key': COGNITIVE_SERVICE_SUBSCRIPTION_KEY,\n",
    "    }\n",
    "\n",
    "    with open(image_path,'rb') as f:\n",
    "        files = {'upload_file': f}\n",
    "        res = requests.post(endpoint, headers=headers, files=files)\n",
    "        res.raise_for_status()\n",
    "        return res.json()"
   ]
  },
  {
   "cell_type": "code",
   "execution_count": 6,
   "metadata": {
    "collapsed": true
   },
   "outputs": [
    {
     "data": {
      "text/plain": [
       "{'description': {'tags': ['outdoor',\n",
       "   'building',\n",
       "   'person',\n",
       "   'man',\n",
       "   'standing',\n",
       "   'front',\n",
       "   'water',\n",
       "   'walking',\n",
       "   'city',\n",
       "   'woman',\n",
       "   'holding',\n",
       "   'people',\n",
       "   'large',\n",
       "   'street',\n",
       "   'riding',\n",
       "   'board',\n",
       "   'young',\n",
       "   'surfing',\n",
       "   'track',\n",
       "   'boat',\n",
       "   'train',\n",
       "   'white'],\n",
       "  'captions': [{'text': 'a person standing in front of a building',\n",
       "    'confidence': 0.8977127766161264}]},\n",
       " 'requestId': '0aed4481-26ca-417f-a9f5-20af8bf5691f',\n",
       " 'metadata': {'width': 640, 'height': 435, 'format': 'Jpeg'}}"
      ]
     },
     "execution_count": 6,
     "metadata": {},
     "output_type": "execute_result"
    }
   ],
   "source": [
    "분석결과 = describe_image(\"./photos/t3.daumcdn.jpg\")\n",
    "분석결과"
   ]
  },
  {
   "cell_type": "markdown",
   "metadata": {},
   "source": [
    "# Face API of Microsoft Azure"
   ]
  },
  {
   "cell_type": "markdown",
   "metadata": {},
   "source": [
    "# Face API\n",
    "\n",
    "+ 공식 사이트 : https://azure.microsoft.com/ko-kr/services/cognitive-services/face/\n",
    "+ API 문서 : https://westus.dev.cognitive.microsoft.com/docs/services/563879b61984550e40cbbe8d/operations/563879b61984550f30395236\n",
    "+ Features\n",
    "    + 사람 얼굴 감지 및 비교\n",
    "    + 유사성에 따라 이미지를 그룹으로 구성\n",
    "    + 이미지에서 이전에 태그가 지정된 사람 인식\n",
    "    + 온-프레미스 또는 클라우드에서 로컬로 실행"
   ]
  },
  {
   "cell_type": "code",
   "execution_count": 23,
   "metadata": {},
   "outputs": [
    {
     "name": "stdout",
     "output_type": "stream",
     "text": [
      "Requirement already satisfied: cognitive_face in /Users/allieus/anaconda3/lib/python3.7/site-packages (1.4.2)\n",
      "Requirement already satisfied: requests in /Users/allieus/anaconda3/lib/python3.7/site-packages (from cognitive_face) (2.20.1)\n",
      "Requirement already satisfied: chardet<3.1.0,>=3.0.2 in /Users/allieus/anaconda3/lib/python3.7/site-packages (from requests->cognitive_face) (3.0.4)\n",
      "Requirement already satisfied: idna<2.8,>=2.5 in /Users/allieus/anaconda3/lib/python3.7/site-packages (from requests->cognitive_face) (2.7)\n",
      "Requirement already satisfied: urllib3<1.25,>=1.21.1 in /Users/allieus/anaconda3/lib/python3.7/site-packages (from requests->cognitive_face) (1.24.1)\n",
      "Requirement already satisfied: certifi>=2017.4.17 in /Users/allieus/anaconda3/lib/python3.7/site-packages (from requests->cognitive_face) (2019.3.9)\n"
     ]
    }
   ],
   "source": [
    "!pip install cognitive_face"
   ]
  },
  {
   "cell_type": "code",
   "execution_count": 7,
   "metadata": {},
   "outputs": [],
   "source": [
    "import cognitive_face as CF\n",
    "\n",
    "FACE_API_SUBSCRIPTION_KEY = \"---\"  # FIXME: 강사의 Api Key\n",
    "CF.Key.set(FACE_API_SUBSCRIPTION_KEY)\n",
    "\n",
    "REGION = \"koreacentral\"  # 데이터 센터 위치, API 생성 시에 확인 가능\n",
    "BASE_URL = \"https://{}.api.cognitive.microsoft.com/face/v1.0/\".format(REGION)\n",
    "CF.BaseUrl.set(BASE_URL)"
   ]
  },
  {
   "cell_type": "code",
   "execution_count": 8,
   "metadata": {
    "collapsed": true
   },
   "outputs": [
    {
     "data": {
      "text/plain": [
       "[{'faceId': 'fb21485f-7032-412b-8167-87fa5492c391',\n",
       "  'faceRectangle': {'top': 81, 'left': 288, 'width': 45, 'height': 45},\n",
       "  'faceAttributes': {'smile': 0.0,\n",
       "   'headPose': {'pitch': 0.0, 'roll': 3.7, 'yaw': 8.7},\n",
       "   'gender': 'male',\n",
       "   'age': 41.0,\n",
       "   'facialHair': {'moustache': 0.4, 'beard': 0.6, 'sideburns': 0.1},\n",
       "   'glasses': 'Sunglasses',\n",
       "   'emotion': {'anger': 0.0,\n",
       "    'contempt': 0.0,\n",
       "    'disgust': 0.0,\n",
       "    'fear': 0.0,\n",
       "    'happiness': 0.0,\n",
       "    'neutral': 0.997,\n",
       "    'sadness': 0.003,\n",
       "    'surprise': 0.0},\n",
       "   'blur': {'blurLevel': 'low', 'value': 0.0},\n",
       "   'exposure': {'exposureLevel': 'goodExposure', 'value': 0.54},\n",
       "   'noise': {'noiseLevel': 'medium', 'value': 0.42},\n",
       "   'makeup': {'eyeMakeup': False, 'lipMakeup': False},\n",
       "   'accessories': [{'type': 'glasses', 'confidence': 0.99}],\n",
       "   'occlusion': {'foreheadOccluded': False,\n",
       "    'eyeOccluded': False,\n",
       "    'mouthOccluded': False},\n",
       "   'hair': {'bald': 0.01,\n",
       "    'invisible': False,\n",
       "    'hairColor': [{'color': 'brown', 'confidence': 1.0},\n",
       "     {'color': 'black', 'confidence': 0.82},\n",
       "     {'color': 'gray', 'confidence': 0.3},\n",
       "     {'color': 'red', 'confidence': 0.11},\n",
       "     {'color': 'blond', 'confidence': 0.07},\n",
       "     {'color': 'other', 'confidence': 0.02}]}}}]"
      ]
     },
     "execution_count": 8,
     "metadata": {},
     "output_type": "execute_result"
    }
   ],
   "source": [
    "image_path = \"./photos/5b552a281900004b004fcfbf.jpg\"\n",
    "attributes = 'age,gender,headPose,smile,facialHair,glasses,emotion,hair,makeup,occlusion,accessories,blur,exposure,noise'\n",
    "\n",
    "CF.face.detect(image_path, attributes=attributes)"
   ]
  },
  {
   "cell_type": "code",
   "execution_count": null,
   "metadata": {},
   "outputs": [],
   "source": []
  },
  {
   "cell_type": "code",
   "execution_count": null,
   "metadata": {},
   "outputs": [],
   "source": []
  },
  {
   "cell_type": "code",
   "execution_count": null,
   "metadata": {},
   "outputs": [],
   "source": []
  },
  {
   "cell_type": "code",
   "execution_count": null,
   "metadata": {},
   "outputs": [],
   "source": []
  },
  {
   "cell_type": "code",
   "execution_count": null,
   "metadata": {},
   "outputs": [],
   "source": []
  },
  {
   "cell_type": "code",
   "execution_count": null,
   "metadata": {},
   "outputs": [],
   "source": []
  },
  {
   "cell_type": "code",
   "execution_count": null,
   "metadata": {},
   "outputs": [],
   "source": []
  }
 ],
 "metadata": {
  "kernelspec": {
   "display_name": "Python 3",
   "language": "python",
   "name": "python3"
  },
  "language_info": {
   "codemirror_mode": {
    "name": "ipython",
    "version": 3
   },
   "file_extension": ".py",
   "mimetype": "text/x-python",
   "name": "python",
   "nbconvert_exporter": "python",
   "pygments_lexer": "ipython3",
   "version": "3.7.2"
  }
 },
 "nbformat": 4,
 "nbformat_minor": 2
}
