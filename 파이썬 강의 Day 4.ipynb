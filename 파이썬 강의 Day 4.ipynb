{
 "cells": [
  {
   "cell_type": "code",
   "execution_count": 1,
   "metadata": {},
   "outputs": [],
   "source": [
    "import requests                # 파이썬 전용, 작은 브라우저\n",
    "from bs4 import BeautifulSoup  # HTML Parser"
   ]
  },
  {
   "cell_type": "code",
   "execution_count": 2,
   "metadata": {},
   "outputs": [
    {
     "data": {
      "text/plain": [
       "<Response [200]>"
      ]
     },
     "execution_count": 2,
     "metadata": {},
     "output_type": "execute_result"
    }
   ],
   "source": [
    "page_url = \"https://search.naver.com/search.naver?where=post&sm=tab_jum&query=%ED%8C%8C%EC%9D%B4%EC%8D%AC\"\n",
    "\n",
    "response = requests.get(page_url)\n",
    "response"
   ]
  },
  {
   "cell_type": "code",
   "execution_count": 4,
   "metadata": {},
   "outputs": [
    {
     "data": {
      "text/plain": [
       "214729"
      ]
     },
     "execution_count": 4,
     "metadata": {},
     "output_type": "execute_result"
    }
   ],
   "source": [
    "html = response.text  # \"페이지 소스 보기 결과\"\n",
    "len(html)"
   ]
  },
  {
   "cell_type": "code",
   "execution_count": 7,
   "metadata": {},
   "outputs": [
    {
     "data": {
      "text/plain": [
       "True"
      ]
     },
     "execution_count": 7,
     "metadata": {},
     "output_type": "execute_result"
    }
   ],
   "source": [
    "'파이썬' in html"
   ]
  },
  {
   "cell_type": "code",
   "execution_count": 8,
   "metadata": {},
   "outputs": [],
   "source": [
    "soup = BeautifulSoup(html, 'html.parser')"
   ]
  },
  {
   "cell_type": "code",
   "execution_count": 10,
   "metadata": {},
   "outputs": [
    {
     "data": {
      "text/plain": [
       "10"
      ]
     },
     "execution_count": 10,
     "metadata": {},
     "output_type": "execute_result"
    }
   ],
   "source": [
    "tag_list = soup.select('.sh_blog_title')\n",
    "len(tag_list)"
   ]
  },
  {
   "cell_type": "code",
   "execution_count": 13,
   "metadata": {},
   "outputs": [
    {
     "name": "stdout",
     "output_type": "stream",
     "text": [
      "파이썬학원 목표를 달성하려면\n",
      "https://blog.naver.com/jjkbw1234?Redirect=Log&logNo=221497979172\n"
     ]
    }
   ],
   "source": [
    "tag = tag_list[0]\n",
    "print(tag['title'])\n",
    "print(tag['href'])"
   ]
  },
  {
   "cell_type": "code",
   "execution_count": 14,
   "metadata": {},
   "outputs": [
    {
     "name": "stdout",
     "output_type": "stream",
     "text": [
      "파이썬학원 목표를 달성하려면\n",
      "https://blog.naver.com/jjkbw1234?Redirect=Log&logNo=221497979172\n",
      "파이썬 학원 기초 과정 커리큘럼 - 초보와 입문자에게 추천\n",
      "https://blog.naver.com/urmyver?Redirect=Log&logNo=221499440948\n",
      "삼성이 챙기는 파이썬\n",
      "https://blog.naver.com/tech-plus?Redirect=Log&logNo=221403058110\n",
      "파이썬 웹구축부터 머신러닝까지 다재다능한 코딩언어!\n",
      "https://blog.naver.com/ridesafe?Redirect=Log&logNo=221465766151\n",
      "[파이썬 강좌] 파이썬 클래스 기초\n",
      "https://blog.naver.com/nasu0210?Redirect=Log&logNo=221521762630\n",
      "나라말 씀이 '아' 다르고 '어'가 달라, 파이썬으로 텍스트를 분석하고자 할 바가 있어도… | 「파이썬으로 한국어 텍스트 마이닝 하기」\n",
      "http://blog.fastcampus.co.kr/221504583468\n",
      "파이썬 IDE - 파이참(PyCharm) 설치 하기.\n",
      "https://1ilsang.blog.me/221415501478\n",
      "I7 8700.GTX1060 배그 조립컴퓨터.파이썬. C언어 공부.청주 택배발송\n",
      "https://blog.naver.com/stsaint?Redirect=Log&logNo=221412406829\n",
      "MAX7219 8X8 Dot Matrix Display Module (4) : 파이썬 스케쥴 모듈로 유튜브 구독자 수 패킷 보내기\n",
      "https://cosmosjs.blog.me/221499383043\n",
      "1.파이썬(Python): 개발 환경 구축하기, 아나콘다 설치\n",
      "https://openwide.blog.me/221517103655\n"
     ]
    }
   ],
   "source": [
    "for tag in tag_list:\n",
    "    print(tag['title'])\n",
    "    print(tag['href'])"
   ]
  },
  {
   "cell_type": "markdown",
   "metadata": {},
   "source": [
    "# 코드 정리"
   ]
  },
  {
   "cell_type": "code",
   "execution_count": 20,
   "metadata": {},
   "outputs": [],
   "source": [
    "import requests                # 파이썬 전용, 작은 브라우저\n",
    "from bs4 import BeautifulSoup  # HTML Parser\n",
    "\n",
    "def naver_blog_search(query):\n",
    "    page_url = \"https://search.naver.com/search.naver\"\n",
    "    params = {\n",
    "        'where': 'post',\n",
    "        'sm': 'tab_jum',\n",
    "        'query': query,\n",
    "    }\n",
    "\n",
    "    response = requests.get(page_url, params=params)\n",
    "    html = response.text  # \"페이지 소스 보기 결과\"\n",
    "    soup = BeautifulSoup(html, 'html.parser')\n",
    "    tag_list = soup.select('.sh_blog_title')\n",
    "    post_list = []\n",
    "    for tag in tag_list:\n",
    "        post_list.append({\n",
    "            'title': tag['title'],\n",
    "            'url': tag['href']\n",
    "        })\n",
    "    return post_list"
   ]
  },
  {
   "cell_type": "code",
   "execution_count": null,
   "metadata": {},
   "outputs": [],
   "source": []
  },
  {
   "cell_type": "code",
   "execution_count": 29,
   "metadata": {},
   "outputs": [
    {
     "data": {
      "text/plain": [
       "'실검1,실검2,실검3'"
      ]
     },
     "execution_count": 29,
     "metadata": {},
     "output_type": "execute_result"
    }
   ],
   "source": [
    "keyword_list = [\"실검1\", \"실검2\", \"실검3\"]  # 문자열로 구성된 리스트\n",
    "\",\".join(keyword_list)"
   ]
  },
  {
   "cell_type": "code",
   "execution_count": 30,
   "metadata": {},
   "outputs": [
    {
     "data": {
      "text/plain": [
       "'실검1,실검2,실검3'"
      ]
     },
     "execution_count": 30,
     "metadata": {},
     "output_type": "execute_result"
    }
   ],
   "source": [
    "\"실검1\" + \",\" + \"실검2\" + \",\" + \"실검3\""
   ]
  },
  {
   "cell_type": "code",
   "execution_count": 31,
   "metadata": {},
   "outputs": [
    {
     "ename": "TypeError",
     "evalue": "unsupported operand type(s) for +: 'int' and 'str'",
     "output_type": "error",
     "traceback": [
      "\u001b[0;31m---------------------------------------------------------------------------\u001b[0m",
      "\u001b[0;31mTypeError\u001b[0m                                 Traceback (most recent call last)",
      "\u001b[0;32m<ipython-input-31-ea2615c590ac>\u001b[0m in \u001b[0;36m<module>\u001b[0;34m()\u001b[0m\n\u001b[0;32m----> 1\u001b[0;31m \u001b[0;36m1\u001b[0m \u001b[0;34m+\u001b[0m \u001b[0;34m\",\"\u001b[0m \u001b[0;34m+\u001b[0m \u001b[0;36m2\u001b[0m \u001b[0;34m+\u001b[0m \u001b[0;34m\",\"\u001b[0m \u001b[0;34m+\u001b[0m \u001b[0;36m3\u001b[0m\u001b[0;34m\u001b[0m\u001b[0;34m\u001b[0m\u001b[0m\n\u001b[0m",
      "\u001b[0;31mTypeError\u001b[0m: unsupported operand type(s) for +: 'int' and 'str'"
     ]
    }
   ],
   "source": [
    "1 + \",\" + 2 + \",\" + 3"
   ]
  },
  {
   "cell_type": "code",
   "execution_count": 32,
   "metadata": {},
   "outputs": [
    {
     "ename": "TypeError",
     "evalue": "unsupported operand type(s) for +: 'dict' and 'str'",
     "output_type": "error",
     "traceback": [
      "\u001b[0;31m---------------------------------------------------------------------------\u001b[0m",
      "\u001b[0;31mTypeError\u001b[0m                                 Traceback (most recent call last)",
      "\u001b[0;32m<ipython-input-32-445a4bea8c36>\u001b[0m in \u001b[0;36m<module>\u001b[0;34m()\u001b[0m\n\u001b[0;32m----> 1\u001b[0;31m \u001b[0;34m{\u001b[0m\u001b[0;34m}\u001b[0m \u001b[0;34m+\u001b[0m \u001b[0;34m\",\"\u001b[0m \u001b[0;34m+\u001b[0m \u001b[0;34m{\u001b[0m\u001b[0;34m}\u001b[0m \u001b[0;34m+\u001b[0m \u001b[0;34m\",\"\u001b[0m \u001b[0;34m+\u001b[0m \u001b[0;34m{\u001b[0m\u001b[0;34m}\u001b[0m\u001b[0;34m\u001b[0m\u001b[0;34m\u001b[0m\u001b[0m\n\u001b[0m",
      "\u001b[0;31mTypeError\u001b[0m: unsupported operand type(s) for +: 'dict' and 'str'"
     ]
    }
   ],
   "source": [
    "{} + \",\" + {} + \",\" + {}"
   ]
  },
  {
   "cell_type": "code",
   "execution_count": null,
   "metadata": {},
   "outputs": [],
   "source": []
  },
  {
   "cell_type": "code",
   "execution_count": null,
   "metadata": {},
   "outputs": [],
   "source": []
  },
  {
   "cell_type": "code",
   "execution_count": 38,
   "metadata": {},
   "outputs": [
    {
     "name": "stdout",
     "output_type": "stream",
     "text": [
      "3월 12일의 기업분석 Letter - <이노션>\n",
      "https://blog.naver.com/ionia17?Redirect=Log&logNo=221486414022\n",
      "\n",
      "[2018 대기업 채용] 한화방산, 이노션, 이랜드...주요기업 자기소개서\n",
      "https://blog.naver.com/trues7?Redirect=Log&logNo=221433325120\n",
      "\n",
      "이노션 취업자 인터뷰\n",
      "https://blog.naver.com/donggoo1942?Redirect=Log&logNo=221456069367\n",
      "\n",
      "[‘실적브리핑 효자株’ 투자포인트 다시 짚어보기②] 이노션\n",
      "https://blog.naver.com/bookonblog?Redirect=Log&logNo=221494454738\n",
      "\n",
      "[Message] 이노션 염철 이사 인터뷰 ‘놀이 Play’의 의미\n",
      "http://blog.innocean.com/221102787253\n",
      "\n",
      "책 '기획은 2형식이다' 저자 남충식 이노션 국장님을 만나다!! (부제 : 블로그하길 참 잘했어요♡)\n",
      "https://yundurius.blog.me/221314562051\n",
      "\n",
      "이노션: 감출 수 없는 실적이 자신감 - [크레온 모닝 미팅 03월 12일]\n",
      "http://cblog.co.kr/221486116041\n",
      "\n",
      "이노션 채용 합격전략 모아보기! (feat.연봉)\n",
      "https://blog.naver.com/incruit1?Redirect=Log&logNo=221343128891\n",
      "\n",
      "4월10일 리포트정리; LG디스플레이, 이노션, 아이쓰리시스템\n",
      "https://blog.naver.com/lewisse?Redirect=Log&logNo=221509930816\n",
      "\n",
      "[액세서리] 맥스이노션 마이보드 MD-300 모니터 선반\n",
      "https://blog.naver.com/gaehoju175?Redirect=Log&logNo=221445386574\n"
     ]
    }
   ],
   "source": [
    "post_list = naver_blog_search('이노션')\n",
    "\n",
    "line_list = []\n",
    "for post in post_list:\n",
    "    line = \"{}\\n{}\".format(post['title'], post['url'])\n",
    "    line_list.append(line)\n",
    "\n",
    "response = \"\\n\\n\".join(line_list)\n",
    "print(response)"
   ]
  },
  {
   "cell_type": "code",
   "execution_count": null,
   "metadata": {},
   "outputs": [],
   "source": []
  },
  {
   "cell_type": "markdown",
   "metadata": {},
   "source": [
    "# 텔레그램 서버 샘플 코드"
   ]
  },
  {
   "cell_type": "code",
   "execution_count": null,
   "metadata": {},
   "outputs": [],
   "source": [
    "import requests\n",
    "from bs4 import BeautifulSoup\n",
    "from telegram.ext import Updater, Filters\n",
    "from telegram.ext import CommandHandler, ConversationHandler, MessageHandler\n",
    "\n",
    "\n",
    "TELEGRAM_TOKEN = '*****************'  # FIXME: 여러분들의 API Key로 대체해주세요.\n",
    "\n",
    "\n",
    "def naver_blog_search(query):\n",
    "    page_url = \"https://search.naver.com/search.naver\"\n",
    "    params = {\n",
    "        'where': 'post',\n",
    "        'sm': 'tab_jum',\n",
    "        'query': query,\n",
    "    }\n",
    "\n",
    "    response = requests.get(page_url, params=params)\n",
    "    html = response.text  # \"페이지 소스 보기 결과\"\n",
    "    soup = BeautifulSoup(html, 'html.parser')\n",
    "    tag_list = soup.select('.sh_blog_title')\n",
    "    post_list = []\n",
    "    for tag in tag_list:\n",
    "        post_list.append({\n",
    "            'title': tag['title'],\n",
    "            'url': tag['href']\n",
    "        })\n",
    "    return post_list\n",
    "\n",
    "\n",
    "def start(bot, update):\n",
    "    chat_id = update.message.chat_id\n",
    "    text = update.message.text\n",
    "    bot.send_message(chat_id=chat_id, text=\"안녕. 나는 봇이야. 나랑 이야기해~\")\n",
    "\n",
    "\n",
    "def echo(bot, update):\n",
    "    try:  # 예외처리\n",
    "        chat_id = update.message.chat_id\n",
    "        text = update.message.text  # 받은 메세지\n",
    "        if text == '야':\n",
    "            response = '왜?'\n",
    "        elif text == '네이버 실검':\n",
    "            keyword_list = ['실검1', '실검2', '실검3']\n",
    "            response = \"\\n\".join(keyword_list)\n",
    "        elif text.startswith('검색:'):  # 검색: 이노션\n",
    "            검색어 = text[3:]\n",
    "            # TODO: 크롤링 기초 -> 네이버 블로그 검색\n",
    "            post_list = naver_blog_search(검색어)\n",
    "            line_list = []\n",
    "            for post in post_list:\n",
    "                line = \"{}\\n{}\".format(post['title'], post['url'])\n",
    "                line_list.append(line)\n",
    "\n",
    "            response = \"\\n\\n\".join(line_list)\n",
    "        else:\n",
    "            response = '니가 무슨 말 하는 지 모르겠어. :('\n",
    "        bot.send_message(chat_id=chat_id, text=response)\n",
    "    except Exception as e:\n",
    "        chat_id = update.message.chat_id\n",
    "        response = 'Error) ' + str(e)\n",
    "        bot.send_message(chat_id=chat_id, text=response)\n",
    "\n",
    "\n",
    "def main(token):\n",
    "    bot = Updater(token=token)\n",
    "    handler = CommandHandler('start', start)\n",
    "    bot.dispatcher.add_handler(handler)\n",
    "    handler = MessageHandler(Filters.text, echo)\n",
    "    bot.dispatcher.add_handler(handler)\n",
    "    bot.start_polling()\n",
    "    print('running telegram bot ...')\n",
    "    bot.idle()\n",
    "\n",
    "\n",
    "if __name__ == '__main__':\n",
    "    main(TELEGRAM_TOKEN)\n"
   ]
  }
 ],
 "metadata": {
  "kernelspec": {
   "display_name": "Python 3",
   "language": "python",
   "name": "python3"
  },
  "language_info": {
   "codemirror_mode": {
    "name": "ipython",
    "version": 3
   },
   "file_extension": ".py",
   "mimetype": "text/x-python",
   "name": "python",
   "nbconvert_exporter": "python",
   "pygments_lexer": "ipython3",
   "version": "3.7.2"
  }
 },
 "nbformat": 4,
 "nbformat_minor": 2
}
