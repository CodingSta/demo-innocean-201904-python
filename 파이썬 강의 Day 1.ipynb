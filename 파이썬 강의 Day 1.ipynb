{
 "cells": [
  {
   "cell_type": "code",
   "execution_count": 1,
   "metadata": {},
   "outputs": [
    {
     "data": {
      "text/plain": [
       "10715086071862673209484250490600018105614048117055336074437503883703510511249361224931983788156958581275946729175531468251871452856923140435984577574698574803934567774824230985421074605062371141877954182153046474983581941267398767559165543946077062914571196477686542167660429831652624386837205668069376"
      ]
     },
     "execution_count": 1,
     "metadata": {},
     "output_type": "execute_result"
    }
   ],
   "source": [
    "2 ** 1000  # Run : Shift + Enter"
   ]
  },
  {
   "cell_type": "code",
   "execution_count": 2,
   "metadata": {},
   "outputs": [
    {
     "data": {
      "text/plain": [
       "[<matplotlib.lines.Line2D at 0x108cc14a8>]"
      ]
     },
     "execution_count": 2,
     "metadata": {},
     "output_type": "execute_result"
    },
    {
     "data": {
      "image/png": "[encoded data removed]",
      "text/plain": [
       "<Figure size 432x288 with 1 Axes>"
      ]
     },
     "metadata": {
      "needs_background": "light"
     },
     "output_type": "display_data"
    }
   ],
   "source": [
    "%matplotlib inline\n",
    "\n",
    "from matplotlib import pyplot as plt\n",
    "import numpy as np\n",
    "\n",
    "x = np.arange(0, 10, 0.01)\n",
    "plt.plot(x, np.cos(x))\n",
    "plt.plot(x, np.sin(x))"
   ]
  },
  {
   "cell_type": "code",
   "execution_count": 3,
   "metadata": {},
   "outputs": [
    {
     "data": {
      "text/plain": [
       "'/Users/allieus/demo-innocean-201904-python'"
      ]
     },
     "execution_count": 3,
     "metadata": {},
     "output_type": "execute_result"
    }
   ],
   "source": [
    "%pwd"
   ]
  },
  {
   "cell_type": "code",
   "execution_count": null,
   "metadata": {},
   "outputs": [],
   "source": []
  },
  {
   "cell_type": "code",
   "execution_count": 4,
   "metadata": {},
   "outputs": [
    {
     "data": {
      "text/plain": [
       "2019"
      ]
     },
     "execution_count": 4,
     "metadata": {},
     "output_type": "execute_result"
    }
   ],
   "source": [
    "2019"
   ]
  },
  {
   "cell_type": "code",
   "execution_count": 5,
   "metadata": {},
   "outputs": [
    {
     "data": {
      "text/plain": [
       "4"
      ]
     },
     "execution_count": 5,
     "metadata": {},
     "output_type": "execute_result"
    }
   ],
   "source": [
    "4"
   ]
  },
  {
   "cell_type": "code",
   "execution_count": 6,
   "metadata": {},
   "outputs": [
    {
     "data": {
      "text/plain": [
       "'2019-04-16'"
      ]
     },
     "execution_count": 6,
     "metadata": {},
     "output_type": "execute_result"
    }
   ],
   "source": [
    "\"2019-04-16\""
   ]
  },
  {
   "cell_type": "code",
   "execution_count": 7,
   "metadata": {},
   "outputs": [
    {
     "data": {
      "text/plain": [
       "5.0"
      ]
     },
     "execution_count": 7,
     "metadata": {},
     "output_type": "execute_result"
    }
   ],
   "source": [
    "10 / 2"
   ]
  },
  {
   "cell_type": "code",
   "execution_count": 8,
   "metadata": {},
   "outputs": [
    {
     "data": {
      "text/plain": [
       "30"
      ]
     },
     "execution_count": 8,
     "metadata": {},
     "output_type": "execute_result"
    }
   ],
   "source": [
    "10 + 20"
   ]
  },
  {
   "cell_type": "code",
   "execution_count": 9,
   "metadata": {},
   "outputs": [
    {
     "data": {
      "text/plain": [
       "-10"
      ]
     },
     "execution_count": 9,
     "metadata": {},
     "output_type": "execute_result"
    }
   ],
   "source": [
    "10 - 20"
   ]
  },
  {
   "cell_type": "code",
   "execution_count": 10,
   "metadata": {},
   "outputs": [
    {
     "data": {
      "text/plain": [
       "1"
      ]
     },
     "execution_count": 10,
     "metadata": {},
     "output_type": "execute_result"
    }
   ],
   "source": [
    "10 % 3  # Modular"
   ]
  },
  {
   "cell_type": "code",
   "execution_count": 11,
   "metadata": {},
   "outputs": [
    {
     "data": {
      "text/plain": [
       "0"
      ]
     },
     "execution_count": 11,
     "metadata": {},
     "output_type": "execute_result"
    }
   ],
   "source": [
    "10 % 2"
   ]
  },
  {
   "cell_type": "code",
   "execution_count": 12,
   "metadata": {},
   "outputs": [
    {
     "data": {
      "text/plain": [
       "False"
      ]
     },
     "execution_count": 12,
     "metadata": {},
     "output_type": "execute_result"
    }
   ],
   "source": [
    "4 == 5"
   ]
  },
  {
   "cell_type": "code",
   "execution_count": 13,
   "metadata": {},
   "outputs": [
    {
     "data": {
      "text/plain": [
       "True"
      ]
     },
     "execution_count": 13,
     "metadata": {},
     "output_type": "execute_result"
    }
   ],
   "source": [
    "4 != 5"
   ]
  },
  {
   "cell_type": "code",
   "execution_count": 14,
   "metadata": {},
   "outputs": [
    {
     "data": {
      "text/plain": [
       "True"
      ]
     },
     "execution_count": 14,
     "metadata": {},
     "output_type": "execute_result"
    }
   ],
   "source": [
    "10 % 2 == 0"
   ]
  },
  {
   "cell_type": "code",
   "execution_count": 15,
   "metadata": {},
   "outputs": [
    {
     "data": {
      "text/plain": [
       "'iPhone XS (Black, 512GB)'"
      ]
     },
     "execution_count": 15,
     "metadata": {},
     "output_type": "execute_result"
    }
   ],
   "source": [
    "\"iPhone XS (Black, 512GB)\""
   ]
  },
  {
   "cell_type": "code",
   "execution_count": null,
   "metadata": {},
   "outputs": [],
   "source": []
  },
  {
   "cell_type": "code",
   "execution_count": 16,
   "metadata": {},
   "outputs": [],
   "source": [
    "year = 2019"
   ]
  },
  {
   "cell_type": "code",
   "execution_count": 17,
   "metadata": {},
   "outputs": [
    {
     "data": {
      "text/plain": [
       "2019"
      ]
     },
     "execution_count": 17,
     "metadata": {},
     "output_type": "execute_result"
    }
   ],
   "source": [
    "year"
   ]
  },
  {
   "cell_type": "code",
   "execution_count": 18,
   "metadata": {},
   "outputs": [],
   "source": [
    "year = 2020"
   ]
  },
  {
   "cell_type": "code",
   "execution_count": 19,
   "metadata": {},
   "outputs": [
    {
     "data": {
      "text/plain": [
       "2020"
      ]
     },
     "execution_count": 19,
     "metadata": {},
     "output_type": "execute_result"
    }
   ],
   "source": [
    "year"
   ]
  },
  {
   "cell_type": "code",
   "execution_count": 20,
   "metadata": {},
   "outputs": [],
   "source": [
    "month = 4\n",
    "day = 16"
   ]
  },
  {
   "cell_type": "code",
   "execution_count": 21,
   "metadata": {},
   "outputs": [],
   "source": [
    "phone = \"iPhone XS\""
   ]
  },
  {
   "cell_type": "code",
   "execution_count": 22,
   "metadata": {},
   "outputs": [],
   "source": [
    "# 4 = 5"
   ]
  },
  {
   "cell_type": "code",
   "execution_count": 23,
   "metadata": {},
   "outputs": [],
   "source": [
    "phone = \"phone\"\n",
    "연출 = \"이진석\"\n",
    "조연출 = \"강동원\""
   ]
  },
  {
   "cell_type": "code",
   "execution_count": 24,
   "metadata": {},
   "outputs": [
    {
     "data": {
      "text/plain": [
       "'이진석'"
      ]
     },
     "execution_count": 24,
     "metadata": {},
     "output_type": "execute_result"
    }
   ],
   "source": [
    "연출"
   ]
  },
  {
   "cell_type": "code",
   "execution_count": 25,
   "metadata": {},
   "outputs": [
    {
     "data": {
      "text/plain": [
       "'강동원'"
      ]
     },
     "execution_count": 25,
     "metadata": {},
     "output_type": "execute_result"
    }
   ],
   "source": [
    "드라마_조연출 = \"강동원\"\n",
    "드라마_조연출"
   ]
  },
  {
   "cell_type": "code",
   "execution_count": 26,
   "metadata": {
    "scrolled": false
   },
   "outputs": [
    {
     "data": {
      "text/plain": [
       "1267650600228229401496703205376"
      ]
     },
     "execution_count": 26,
     "metadata": {},
     "output_type": "execute_result"
    }
   ],
   "source": [
    "2 ** 100"
   ]
  },
  {
   "cell_type": "code",
   "execution_count": 27,
   "metadata": {},
   "outputs": [
    {
     "data": {
      "text/plain": [
       "{'광고주': '돌코리아', '모델': '진선규'}"
      ]
     },
     "execution_count": 27,
     "metadata": {},
     "output_type": "execute_result"
    }
   ],
   "source": [
    "광고 = {\n",
    "    '광고주': '돌코리아',\n",
    "    '모델': '진선규',\n",
    "}\n",
    "광고"
   ]
  },
  {
   "cell_type": "code",
   "execution_count": null,
   "metadata": {},
   "outputs": [],
   "source": []
  },
  {
   "cell_type": "code",
   "execution_count": 31,
   "metadata": {
    "collapsed": true
   },
   "outputs": [
    {
     "data": {
      "text/plain": [
       "[{'title': '광고주',\n",
       "  'part': 2,\n",
       "  'isBlind': False,\n",
       "  'isLock': False,\n",
       "  'makers': [{'makerName': '해브앤비',\n",
       "    'makerId': '',\n",
       "    'cuserId': 'KHJ1413002',\n",
       "    'makerIdx': 1998411,\n",
       "    'waiting': False}]},\n",
       " {'title': '광고주(담당자)',\n",
       "  'part': 3,\n",
       "  'isBlind': False,\n",
       "  'isLock': False,\n",
       "  'makers': []},\n",
       " {'title': '대행사',\n",
       "  'part': 6,\n",
       "  'isBlind': False,\n",
       "  'isLock': False,\n",
       "  'makers': [{'makerName': '애드쿠아 인터렉티브',\n",
       "    'makerId': 'C000001681',\n",
       "    'cuserId': 'KHJ1413002',\n",
       "    'makerIdx': 1998412,\n",
       "    'waiting': False}]},\n",
       " {'title': '제작사',\n",
       "  'part': 30,\n",
       "  'isBlind': False,\n",
       "  'isLock': False,\n",
       "  'makers': [{'makerName': '고스트스프',\n",
       "    'makerId': 'C000013341',\n",
       "    'cuserId': 'KHJ1413002',\n",
       "    'makerIdx': 1998408,\n",
       "    'waiting': False}]},\n",
       " {'title': '모델',\n",
       "  'part': 26,\n",
       "  'isBlind': False,\n",
       "  'isLock': False,\n",
       "  'makers': [{'makerName': '지이수',\n",
       "    'makerId': '',\n",
       "    'cuserId': 'KHJ1413002',\n",
       "    'makerIdx': 1998419,\n",
       "    'waiting': False}]},\n",
       " {'title': 'BGM', 'part': 9, 'isBlind': False, 'isLock': False, 'makers': []},\n",
       " {'title': '촬영지', 'part': 16, 'isBlind': False, 'isLock': False, 'makers': []},\n",
       " {'title': 'CD',\n",
       "  'part': 10,\n",
       "  'isBlind': False,\n",
       "  'isLock': False,\n",
       "  'makers': [{'makerName': '이현아',\n",
       "    'makerId': 'DDOHANJAN',\n",
       "    'cuserId': 'KHJ1413002',\n",
       "    'makerIdx': 1998410,\n",
       "    'waiting': False}]},\n",
       " {'title': 'AE',\n",
       "  'part': 5,\n",
       "  'isBlind': False,\n",
       "  'isLock': False,\n",
       "  'makers': [{'makerName': '정연준',\n",
       "    'makerId': '',\n",
       "    'cuserId': 'KHJ1413002',\n",
       "    'makerIdx': 1998414,\n",
       "    'waiting': False},\n",
       "   {'makerName': '홍송연',\n",
       "    'makerId': 'ALLINEEDIS',\n",
       "    'cuserId': 'KHJ1413002',\n",
       "    'makerIdx': 1998415,\n",
       "    'waiting': False},\n",
       "   {'makerName': '윤지민',\n",
       "    'makerId': 'YJM1057',\n",
       "    'cuserId': 'KHJ1413002',\n",
       "    'makerIdx': 1998416,\n",
       "    'waiting': False}]},\n",
       " {'title': 'PD',\n",
       "  'part': 29,\n",
       "  'isBlind': True,\n",
       "  'isLock': False,\n",
       "  'makers': [{'makerName': '박민아',\n",
       "    'makerId': 'GOODPS12',\n",
       "    'cuserId': 'KHJ1413002',\n",
       "    'makerIdx': 1998413,\n",
       "    'waiting': False}]},\n",
       " {'title': 'CW',\n",
       "  'part': 11,\n",
       "  'isBlind': True,\n",
       "  'isLock': False,\n",
       "  'makers': [{'makerName': '윤아영',\n",
       "    'makerId': 'ZHZHQHF033',\n",
       "    'cuserId': 'KHJ1413002',\n",
       "    'makerIdx': 1998417,\n",
       "    'waiting': False},\n",
       "   {'makerName': '김남훈',\n",
       "    'makerId': 'KNH6740',\n",
       "    'cuserId': 'KHJ1413002',\n",
       "    'makerIdx': 1998418,\n",
       "    'waiting': False}]},\n",
       " {'title': '아트디렉터',\n",
       "  'part': 1,\n",
       "  'isBlind': False,\n",
       "  'isLock': False,\n",
       "  'makers': []},\n",
       " {'title': '감독',\n",
       "  'part': 12,\n",
       "  'isBlind': True,\n",
       "  'isLock': False,\n",
       "  'makers': [{'makerName': '김영환',\n",
       "    'makerId': 'LUNATIC0',\n",
       "    'cuserId': 'KHJ1413002',\n",
       "    'makerIdx': 1998409,\n",
       "    'waiting': False}]},\n",
       " {'title': '조감독',\n",
       "  'part': 13,\n",
       "  'isBlind': True,\n",
       "  'isLock': False,\n",
       "  'makers': [{'makerName': '김동선',\n",
       "    'makerId': '',\n",
       "    'cuserId': 'KHJ1413002',\n",
       "    'makerIdx': 1998420,\n",
       "    'waiting': False}]},\n",
       " {'title': 'Executive PD',\n",
       "  'part': 54,\n",
       "  'isBlind': False,\n",
       "  'isLock': False,\n",
       "  'makers': []},\n",
       " {'title': '제작사PD',\n",
       "  'part': 33,\n",
       "  'isBlind': False,\n",
       "  'isLock': False,\n",
       "  'makers': []},\n",
       " {'title': 'LINE PD',\n",
       "  'part': 31,\n",
       "  'isBlind': False,\n",
       "  'isLock': False,\n",
       "  'makers': []},\n",
       " {'title': '플래너', 'part': 34, 'isBlind': False, 'isLock': False, 'makers': []},\n",
       " {'title': '촬영감독',\n",
       "  'part': 17,\n",
       "  'isBlind': False,\n",
       "  'isLock': False,\n",
       "  'makers': []},\n",
       " {'title': '촬영조수',\n",
       "  'part': 18,\n",
       "  'isBlind': False,\n",
       "  'isLock': False,\n",
       "  'makers': []},\n",
       " {'title': '조명감독',\n",
       "  'part': 22,\n",
       "  'isBlind': False,\n",
       "  'isLock': False,\n",
       "  'makers': []},\n",
       " {'title': '조명조수',\n",
       "  'part': 23,\n",
       "  'isBlind': False,\n",
       "  'isLock': False,\n",
       "  'makers': []},\n",
       " {'title': 'Set 제작',\n",
       "  'part': 55,\n",
       "  'isBlind': False,\n",
       "  'isLock': False,\n",
       "  'makers': []},\n",
       " {'title': '아트디렉터(스텝)',\n",
       "  'part': 4,\n",
       "  'isBlind': False,\n",
       "  'isLock': False,\n",
       "  'makers': []},\n",
       " {'title': '메이크업/헤어',\n",
       "  'part': 25,\n",
       "  'isBlind': False,\n",
       "  'isLock': False,\n",
       "  'makers': []},\n",
       " {'title': '스타일리스트',\n",
       "  'part': 40,\n",
       "  'isBlind': False,\n",
       "  'isLock': False,\n",
       "  'makers': []},\n",
       " {'title': '모델에이젼시',\n",
       "  'part': 27,\n",
       "  'isBlind': True,\n",
       "  'isLock': False,\n",
       "  'makers': [{'makerName': '위민모델에이전시',\n",
       "    'makerId': 'C000005410',\n",
       "    'cuserId': 'KHJ1413002',\n",
       "    'makerIdx': 1998423,\n",
       "    'waiting': False}]},\n",
       " {'title': '특수효과업체',\n",
       "  'part': 36,\n",
       "  'isBlind': False,\n",
       "  'isLock': False,\n",
       "  'makers': []},\n",
       " {'title': '로케이션 업체',\n",
       "  'part': 24,\n",
       "  'isBlind': False,\n",
       "  'isLock': False,\n",
       "  'makers': []},\n",
       " {'title': '해외코디',\n",
       "  'part': 20,\n",
       "  'isBlind': False,\n",
       "  'isLock': False,\n",
       "  'makers': []},\n",
       " {'title': '콘티맨', 'part': 39, 'isBlind': False, 'isLock': False, 'makers': []},\n",
       " {'title': '편집실',\n",
       "  'part': 15,\n",
       "  'isBlind': False,\n",
       "  'isLock': False,\n",
       "  'makers': [{'makerName': '어거스트 스튜디오',\n",
       "    'makerId': 'C000012845',\n",
       "    'cuserId': 'KHJ1413002',\n",
       "    'makerIdx': 1998421,\n",
       "    'waiting': False}]},\n",
       " {'title': '편집자', 'part': 14, 'isBlind': False, 'isLock': False, 'makers': []},\n",
       " {'title': '2D업체',\n",
       "  'part': 43,\n",
       "  'isBlind': True,\n",
       "  'isLock': False,\n",
       "  'makers': [{'makerName': '어거스트 스튜디오',\n",
       "    'makerId': 'C000012845',\n",
       "    'cuserId': 'KHJ1413002',\n",
       "    'makerIdx': 1998422,\n",
       "    'waiting': False}]},\n",
       " {'title': '2D(TD)',\n",
       "  'part': 44,\n",
       "  'isBlind': False,\n",
       "  'isLock': False,\n",
       "  'makers': []},\n",
       " {'title': '3D업체',\n",
       "  'part': 41,\n",
       "  'isBlind': False,\n",
       "  'isLock': False,\n",
       "  'makers': []},\n",
       " {'title': '3D(TD)',\n",
       "  'part': 42,\n",
       "  'isBlind': False,\n",
       "  'isLock': False,\n",
       "  'makers': []},\n",
       " {'title': 'NTC', 'part': 28, 'isBlind': False, 'isLock': False, 'makers': []},\n",
       " {'title': '녹음실',\n",
       "  'part': 38,\n",
       "  'isBlind': True,\n",
       "  'isLock': False,\n",
       "  'makers': [{'makerName': '키스에프앰',\n",
       "    'makerId': 'C000011202',\n",
       "    'cuserId': 'KHJ1413002',\n",
       "    'makerIdx': 1998424,\n",
       "    'waiting': False}]},\n",
       " {'title': '오디오PD',\n",
       "  'part': 7,\n",
       "  'isBlind': False,\n",
       "  'isLock': False,\n",
       "  'makers': []},\n",
       " {'title': '동시녹음',\n",
       "  'part': 35,\n",
       "  'isBlind': False,\n",
       "  'isLock': False,\n",
       "  'makers': []},\n",
       " {'title': 'CMSong(업체)',\n",
       "  'part': 8,\n",
       "  'isBlind': False,\n",
       "  'isLock': False,\n",
       "  'makers': []},\n",
       " {'title': '성우', 'part': 45, 'isBlind': False, 'isLock': False, 'makers': []},\n",
       " {'title': '가수', 'part': 37, 'isBlind': False, 'isLock': False, 'makers': []}]"
      ]
     },
     "execution_count": 31,
     "metadata": {},
     "output_type": "execute_result"
    }
   ],
   "source": [
    "import requests\n",
    "\n",
    "url = \"https://v.tvcf.co.kr/rest/api/player/Maker/744595\"\n",
    "headers = {'Accept': 'application/json;'}\n",
    "\n",
    "res = requests.get(url, headers=headers)\n",
    "groups = res.json()['groups']\n",
    "groups"
   ]
  },
  {
   "cell_type": "code",
   "execution_count": 34,
   "metadata": {
    "collapsed": true
   },
   "outputs": [
    {
     "data": {
      "text/html": [
       "<div>\n",
       "<style scoped>\n",
       "    .dataframe tbody tr th:only-of-type {\n",
       "        vertical-align: middle;\n",
       "    }\n",
       "\n",
       "    .dataframe tbody tr th {\n",
       "        vertical-align: top;\n",
       "    }\n",
       "\n",
       "    .dataframe thead th {\n",
       "        text-align: right;\n",
       "    }\n",
       "</style>\n",
       "<table border=\"1\" class=\"dataframe\">\n",
       "  <thead>\n",
       "    <tr style=\"text-align: right;\">\n",
       "      <th></th>\n",
       "      <th>isBlind</th>\n",
       "      <th>isLock</th>\n",
       "      <th>makers</th>\n",
       "      <th>part</th>\n",
       "      <th>title</th>\n",
       "    </tr>\n",
       "  </thead>\n",
       "  <tbody>\n",
       "    <tr>\n",
       "      <th>0</th>\n",
       "      <td>False</td>\n",
       "      <td>False</td>\n",
       "      <td>[{'makerName': '해브앤비', 'makerId': '', 'cuserId...</td>\n",
       "      <td>2</td>\n",
       "      <td>광고주</td>\n",
       "    </tr>\n",
       "    <tr>\n",
       "      <th>1</th>\n",
       "      <td>False</td>\n",
       "      <td>False</td>\n",
       "      <td>[]</td>\n",
       "      <td>3</td>\n",
       "      <td>광고주(담당자)</td>\n",
       "    </tr>\n",
       "    <tr>\n",
       "      <th>2</th>\n",
       "      <td>False</td>\n",
       "      <td>False</td>\n",
       "      <td>[{'makerName': '애드쿠아 인터렉티브', 'makerId': 'C0000...</td>\n",
       "      <td>6</td>\n",
       "      <td>대행사</td>\n",
       "    </tr>\n",
       "    <tr>\n",
       "      <th>3</th>\n",
       "      <td>False</td>\n",
       "      <td>False</td>\n",
       "      <td>[{'makerName': '고스트스프', 'makerId': 'C000013341...</td>\n",
       "      <td>30</td>\n",
       "      <td>제작사</td>\n",
       "    </tr>\n",
       "    <tr>\n",
       "      <th>4</th>\n",
       "      <td>False</td>\n",
       "      <td>False</td>\n",
       "      <td>[{'makerName': '지이수', 'makerId': '', 'cuserId'...</td>\n",
       "      <td>26</td>\n",
       "      <td>모델</td>\n",
       "    </tr>\n",
       "  </tbody>\n",
       "</table>\n",
       "</div>"
      ],
      "text/plain": [
       "   isBlind  isLock                                             makers  part  \\\n",
       "0    False   False  [{'makerName': '해브앤비', 'makerId': '', 'cuserId...     2   \n",
       "1    False   False                                                 []     3   \n",
       "2    False   False  [{'makerName': '애드쿠아 인터렉티브', 'makerId': 'C0000...     6   \n",
       "3    False   False  [{'makerName': '고스트스프', 'makerId': 'C000013341...    30   \n",
       "4    False   False  [{'makerName': '지이수', 'makerId': '', 'cuserId'...    26   \n",
       "\n",
       "      title  \n",
       "0       광고주  \n",
       "1  광고주(담당자)  \n",
       "2       대행사  \n",
       "3       제작사  \n",
       "4        모델  "
      ]
     },
     "execution_count": 34,
     "metadata": {},
     "output_type": "execute_result"
    }
   ],
   "source": [
    "import pandas as pd\n",
    "\n",
    "df = pd.DataFrame(groups)\n",
    "df.head()"
   ]
  },
  {
   "cell_type": "code",
   "execution_count": null,
   "metadata": {},
   "outputs": [],
   "source": [
    "df.to_excel(\"groups-744595.xlsx\")"
   ]
  },
  {
   "cell_type": "code",
   "execution_count": null,
   "metadata": {},
   "outputs": [],
   "source": []
  },
  {
   "cell_type": "code",
   "execution_count": 35,
   "metadata": {},
   "outputs": [
    {
     "data": {
      "text/plain": [
       "'/Users/allieus/demo-innocean-201904-python'"
      ]
     },
     "execution_count": 35,
     "metadata": {},
     "output_type": "execute_result"
    }
   ],
   "source": [
    "%pwd"
   ]
  },
  {
   "cell_type": "code",
   "execution_count": null,
   "metadata": {},
   "outputs": [],
   "source": []
  },
  {
   "cell_type": "code",
   "execution_count": 36,
   "metadata": {},
   "outputs": [
    {
     "data": {
      "text/plain": [
       "14.285714285714286"
      ]
     },
     "execution_count": 36,
     "metadata": {},
     "output_type": "execute_result"
    }
   ],
   "source": [
    "100 / 7  # 나누기"
   ]
  },
  {
   "cell_type": "code",
   "execution_count": 40,
   "metadata": {},
   "outputs": [
    {
     "data": {
      "text/plain": [
       "14"
      ]
     },
     "execution_count": 40,
     "metadata": {},
     "output_type": "execute_result"
    }
   ],
   "source": [
    "몫 = 100 // 7  # 몫\n",
    "몫"
   ]
  },
  {
   "cell_type": "code",
   "execution_count": 41,
   "metadata": {},
   "outputs": [
    {
     "data": {
      "text/plain": [
       "2"
      ]
     },
     "execution_count": 41,
     "metadata": {},
     "output_type": "execute_result"
    }
   ],
   "source": [
    "나머지 = 100 % 7  # 나머지\n",
    "나머지"
   ]
  },
  {
   "cell_type": "code",
   "execution_count": 43,
   "metadata": {},
   "outputs": [],
   "source": [
    "몫, 계산 = divmod(100, 7)  # 몫,나머지를 한 번에 계산"
   ]
  },
  {
   "cell_type": "code",
   "execution_count": null,
   "metadata": {},
   "outputs": [],
   "source": []
  },
  {
   "cell_type": "code",
   "execution_count": 46,
   "metadata": {},
   "outputs": [
    {
     "data": {
      "text/plain": [
       "True"
      ]
     },
     "execution_count": 46,
     "metadata": {},
     "output_type": "execute_result"
    }
   ],
   "source": [
    "이름1 = \"강동원\"\n",
    "이름2 = '강동원'\n",
    "이름3 = \"\"\"강동원\"\"\"  # 여러 줄 문자열을 지원\n",
    "이름4 = '''강동원'''\n",
    "\n",
    "이름1 == 이름2"
   ]
  },
  {
   "cell_type": "code",
   "execution_count": null,
   "metadata": {},
   "outputs": [],
   "source": []
  },
  {
   "cell_type": "code",
   "execution_count": 47,
   "metadata": {},
   "outputs": [],
   "source": [
    "BTS_신곡_가사 = \"\"\"모든 게 궁금해\n",
    "How’s your day\n",
    "Oh tell me\"\"\""
   ]
  },
  {
   "cell_type": "code",
   "execution_count": null,
   "metadata": {},
   "outputs": [],
   "source": []
  },
  {
   "cell_type": "code",
   "execution_count": 48,
   "metadata": {},
   "outputs": [
    {
     "data": {
      "text/plain": [
       "'광고주는 돌코리아이며, 모델은 진선규입니다.'"
      ]
     },
     "execution_count": 48,
     "metadata": {},
     "output_type": "execute_result"
    }
   ],
   "source": [
    "\"광고주는 돌코리아이며, 모델은 진선규입니다.\""
   ]
  },
  {
   "cell_type": "code",
   "execution_count": 62,
   "metadata": {},
   "outputs": [
    {
     "name": "stdout",
     "output_type": "stream",
     "text": [
      "광고주는 돌코리아이며, 모델은 강동원입니다. 돌코리아님 감사합니다.\n",
      "광고주는 돌코리아이며, 모델은 강동원입니다. 돌코리아님 감사합니다.\n",
      "광고주는 돌코리아이며, 모델은 강동원입니다. 돌코리아님 감사합니다.\n"
     ]
    }
   ],
   "source": [
    "광고주 = \"돌코리아\"\n",
    "모델 = \"강동원\"\n",
    "\n",
    "print(\"광고주는 {}이며, 모델은 {}입니다. {}님 감사합니다.\".format(광고주, 모델, 광고주))\n",
    "print(\"광고주는 {0}이며, 모델은 {1}입니다. {0}님 감사합니다.\".format(광고주, 모델))\n",
    "\n",
    "print(\"광고주는 {광고주}이며, 모델은 {모델}입니다. {광고주}님 감사합니다.\".format(\n",
    "    광고주=광고주, 모델=모델))"
   ]
  },
  {
   "cell_type": "code",
   "execution_count": 54,
   "metadata": {},
   "outputs": [
    {
     "name": "stdout",
     "output_type": "stream",
     "text": [
      "hello world\n"
     ]
    }
   ],
   "source": [
    "print(\"hello world\")"
   ]
  },
  {
   "cell_type": "code",
   "execution_count": null,
   "metadata": {},
   "outputs": [],
   "source": []
  }
 ],
 "metadata": {
  "kernelspec": {
   "display_name": "Python 3",
   "language": "python",
   "name": "python3"
  },
  "language_info": {
   "codemirror_mode": {
    "name": "ipython",
    "version": 3
   },
   "file_extension": ".py",
   "mimetype": "text/x-python",
   "name": "python",
   "nbconvert_exporter": "python",
   "pygments_lexer": "ipython3",
   "version": "3.7.2"
  }
 },
 "nbformat": 4,
 "nbformat_minor": 2
}
