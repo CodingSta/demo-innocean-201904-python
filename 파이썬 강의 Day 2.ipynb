{
 "cells": [
  {
   "cell_type": "code",
   "execution_count": 2,
   "metadata": {},
   "outputs": [
    {
     "data": {
      "text/plain": [
       "<telegram.message.Message at 0x108d44940>"
      ]
     },
     "execution_count": 2,
     "metadata": {},
     "output_type": "execute_result"
    }
   ],
   "source": [
    "import telegram\n",
    "\n",
    "# 텔레그램_인증토큰 = \"690984079:AAHPTOYZ4At87tvO9jLJkNqE9xGbN-uikko\"\n",
    "텔레그램_인증토큰 = \"690984079:AAEKgTAuR-fQCRKH792SrTv5tJF4suli_NQ\"\n",
    "\n",
    "chat_id = \"42478249\"  # 텔레그램 채팅방의 아이디\n",
    "\n",
    "bot = telegram.Bot(텔레그램_인증토큰)\n",
    "bot.sendMessage(chat_id=chat_id, text=\"반갑습니다. :D\")"
   ]
  },
  {
   "cell_type": "code",
   "execution_count": 4,
   "metadata": {},
   "outputs": [
    {
     "name": "stdout",
     "output_type": "stream",
     "text": [
      "chat_id : 42478249\n",
      "{'message_id': 9, 'date': 1555562468, 'chat': {'id': 42478249, 'type': 'private', 'username': 'allieus', 'first_name': 'Chinseok'}, 'text': 'hello', 'entities': [], 'caption_entities': [], 'photo': [], 'new_chat_members': [], 'new_chat_photo': [], 'delete_chat_photo': False, 'group_chat_created': False, 'supergroup_chat_created': False, 'channel_chat_created': False, 'from': {'id': 42478249, 'first_name': 'Chinseok', 'is_bot': False, 'username': 'allieus', 'language_code': 'en'}}\n"
     ]
    }
   ],
   "source": [
    "for update in bot.getUpdates():\n",
    "    print(\"chat_id :\", update.message.chat.id)\n",
    "    print(update.message)"
   ]
  },
  {
   "cell_type": "code",
   "execution_count": null,
   "metadata": {},
   "outputs": [],
   "source": []
  },
  {
   "cell_type": "code",
   "execution_count": 6,
   "metadata": {},
   "outputs": [],
   "source": [
    "import requests\n",
    "from bs4 import BeautifulSoup\n",
    "\n",
    "def naver_realtime_keywords():\n",
    "    url = \"http://naver.com\"\n",
    "    res = requests.get(url)\n",
    "    html = res.text\n",
    "    soup = BeautifulSoup(html, 'html.parser')\n",
    "    tag_list = soup.select(\".PM_CL_realtimeKeyword_rolling_base .ah_k\")\n",
    "    keyword_list = [tag.text for tag in tag_list]\n",
    "    return keyword_list"
   ]
  },
  {
   "cell_type": "code",
   "execution_count": 9,
   "metadata": {},
   "outputs": [
    {
     "data": {
      "text/plain": [
       "<telegram.message.Message at 0x10b813358>"
      ]
     },
     "execution_count": 9,
     "metadata": {},
     "output_type": "execute_result"
    }
   ],
   "source": [
    "message = \"\\n\".join(naver_realtime_keywords())\n",
    "bot.sendMessage(chat_id=chat_id, text=message)"
   ]
  },
  {
   "cell_type": "code",
   "execution_count": null,
   "metadata": {},
   "outputs": [],
   "source": []
  },
  {
   "cell_type": "code",
   "execution_count": null,
   "metadata": {},
   "outputs": [],
   "source": []
  },
  {
   "cell_type": "code",
   "execution_count": null,
   "metadata": {},
   "outputs": [],
   "source": []
  }
 ],
 "metadata": {
  "kernelspec": {
   "display_name": "Python 3",
   "language": "python",
   "name": "python3"
  },
  "language_info": {
   "codemirror_mode": {
    "name": "ipython",
    "version": 3
   },
   "file_extension": ".py",
   "mimetype": "text/x-python",
   "name": "python",
   "nbconvert_exporter": "python",
   "pygments_lexer": "ipython3",
   "version": "3.7.2"
  }
 },
 "nbformat": 4,
 "nbformat_minor": 2
}
