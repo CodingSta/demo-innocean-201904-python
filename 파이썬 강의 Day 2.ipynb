{
 "cells": [
  {
   "cell_type": "code",
   "execution_count": 13,
   "metadata": {},
   "outputs": [
    {
     "data": {
      "text/plain": [
       "<telegram.message.Message at 0x10bc06da0>"
      ]
     },
     "execution_count": 13,
     "metadata": {},
     "output_type": "execute_result"
    }
   ],
   "source": [
    "import telegram\n",
    "\n",
    "텔레그램_인증토큰 = None  # FIXME: 각자의 토큰을 지정해주세요.\n",
    "\n",
    "chat_id = \"42478249\"  # 텔레그램 채팅방의 아이디\n",
    "\n",
    "bot = telegram.Bot(텔레그램_인증토큰)\n",
    "bot.sendMessage(chat_id=chat_id, text=\"반갑습니다. :D\")"
   ]
  },
  {
   "cell_type": "code",
   "execution_count": 4,
   "metadata": {},
   "outputs": [
    {
     "name": "stdout",
     "output_type": "stream",
     "text": [
      "chat_id : 42478249\n",
      "{'message_id': 9, 'date': 1555562468, 'chat': {'id': 42478249, 'type': 'private', 'username': 'allieus', 'first_name': 'Chinseok'}, 'text': 'hello', 'entities': [], 'caption_entities': [], 'photo': [], 'new_chat_members': [], 'new_chat_photo': [], 'delete_chat_photo': False, 'group_chat_created': False, 'supergroup_chat_created': False, 'channel_chat_created': False, 'from': {'id': 42478249, 'first_name': 'Chinseok', 'is_bot': False, 'username': 'allieus', 'language_code': 'en'}}\n"
     ]
    }
   ],
   "source": [
    "for update in bot.getUpdates():\n",
    "    print(\"chat_id :\", update.message.chat.id)\n",
    "    print(update.message)"
   ]
  },
  {
   "cell_type": "code",
   "execution_count": null,
   "metadata": {},
   "outputs": [],
   "source": []
  },
  {
   "cell_type": "code",
   "execution_count": null,
   "metadata": {},
   "outputs": [],
   "source": [
    "!pip3 install requests beautifulsoup4"
   ]
  },
  {
   "cell_type": "code",
   "execution_count": 6,
   "metadata": {},
   "outputs": [],
   "source": [
    "import requests\n",
    "from bs4 import BeautifulSoup\n",
    "\n",
    "def naver_realtime_keywords():\n",
    "    url = \"http://naver.com\"\n",
    "    res = requests.get(url)\n",
    "    html = res.text\n",
    "    soup = BeautifulSoup(html, 'html.parser')\n",
    "    tag_list = soup.select(\".PM_CL_realtimeKeyword_rolling_base .ah_k\")\n",
    "    keyword_list = [tag.text for tag in tag_list]\n",
    "    return keyword_list"
   ]
  },
  {
   "cell_type": "code",
   "execution_count": 14,
   "metadata": {},
   "outputs": [
    {
     "data": {
      "text/plain": [
       "<telegram.message.Message at 0x10bc72860>"
      ]
     },
     "execution_count": 14,
     "metadata": {},
     "output_type": "execute_result"
    }
   ],
   "source": [
    "message = \"\\n\".join(naver_realtime_keywords())\n",
    "bot.sendMessage(chat_id=chat_id, text=message)"
   ]
  },
  {
   "cell_type": "code",
   "execution_count": null,
   "metadata": {},
   "outputs": [],
   "source": []
  },
  {
   "cell_type": "markdown",
   "metadata": {},
   "source": [
    "# 기본 데이터 타입\n",
    "\n",
    "+ 문자열 : str\n",
    "+ 정수 : int\n",
    "+ 실수 : float\n",
    "+ 참/거짓 : bool\n",
    "+ None"
   ]
  },
  {
   "cell_type": "markdown",
   "metadata": {},
   "source": [
    "# 기본 자료구조\n",
    "\n",
    "+ list\n",
    "+ tuple\n",
    "+ set\n",
    "+ dict"
   ]
  },
  {
   "cell_type": "code",
   "execution_count": 17,
   "metadata": {},
   "outputs": [
    {
     "data": {
      "text/plain": [
       "['오로나민C', '알바천국', '베이컨박스', 'LG유플러스 5G']"
      ]
     },
     "execution_count": 17,
     "metadata": {},
     "output_type": "execute_result"
    }
   ],
   "source": [
    "# 리스트\n",
    "#  순서가 있는 자료구조\n",
    "#  임의로 항목들을 추가/수정/삭제\n",
    "[\"오로나민C\", \"알바천국\", \"베이컨박스\", \"LG유플러스 5G\"]"
   ]
  },
  {
   "cell_type": "code",
   "execution_count": 20,
   "metadata": {},
   "outputs": [
    {
     "data": {
      "text/plain": [
       "['김철수', '비타민', '이영희', '스티브', '잡스', '이진석']"
      ]
     },
     "execution_count": 20,
     "metadata": {},
     "output_type": "execute_result"
    }
   ],
   "source": [
    "학생_목록 = [\"김철수\", \"이영희\", \"스티브\", \"잡스\"]\n",
    "학생_목록.append(\"이진석\")  # 끝에 추가\n",
    "학생_목록.insert(1, \"비타민\")\n",
    "학생_목록"
   ]
  },
  {
   "cell_type": "code",
   "execution_count": 30,
   "metadata": {},
   "outputs": [
    {
     "data": {
      "text/plain": [
       "'이진석'"
      ]
     },
     "execution_count": 30,
     "metadata": {},
     "output_type": "execute_result"
    }
   ],
   "source": [
    "학생_목록[5]"
   ]
  },
  {
   "cell_type": "code",
   "execution_count": 31,
   "metadata": {},
   "outputs": [
    {
     "data": {
      "text/plain": [
       "['김치찌개', '묵은지', '곰탕', '순대국밥', '곱창', '소주', '맥주', '부침개', '비타민워터', '호떡']"
      ]
     },
     "execution_count": 31,
     "metadata": {},
     "output_type": "execute_result"
    }
   ],
   "source": [
    "내가_좋아하는_음식_목록 = [\n",
    "    \"김치찌개\", \"묵은지\", \"곰탕\", \"순대국밥\", \"곱창\",\n",
    "    \"소주\", \"맥주\", \"부침개\", \"비타민워터\", \"호떡\",\n",
    "]\n",
    "내가_좋아하는_음식_목록"
   ]
  },
  {
   "cell_type": "code",
   "execution_count": 32,
   "metadata": {},
   "outputs": [
    {
     "data": {
      "text/plain": [
       "10"
      ]
     },
     "execution_count": 32,
     "metadata": {},
     "output_type": "execute_result"
    }
   ],
   "source": [
    "len(내가_좋아하는_음식_목록)"
   ]
  },
  {
   "cell_type": "code",
   "execution_count": 33,
   "metadata": {},
   "outputs": [
    {
     "data": {
      "text/plain": [
       "'김치찌개'"
      ]
     },
     "execution_count": 33,
     "metadata": {},
     "output_type": "execute_result"
    }
   ],
   "source": [
    "내가_좋아하는_음식_목록[0]"
   ]
  },
  {
   "cell_type": "code",
   "execution_count": 34,
   "metadata": {},
   "outputs": [
    {
     "data": {
      "text/plain": [
       "'묵은지'"
      ]
     },
     "execution_count": 34,
     "metadata": {},
     "output_type": "execute_result"
    }
   ],
   "source": [
    "내가_좋아하는_음식_목록[1]"
   ]
  },
  {
   "cell_type": "code",
   "execution_count": 35,
   "metadata": {},
   "outputs": [
    {
     "data": {
      "text/plain": [
       "'호떡'"
      ]
     },
     "execution_count": 35,
     "metadata": {},
     "output_type": "execute_result"
    }
   ],
   "source": [
    "내가_좋아하는_음식_목록[9]"
   ]
  },
  {
   "cell_type": "code",
   "execution_count": 38,
   "metadata": {},
   "outputs": [
    {
     "data": {
      "text/plain": [
       "'호떡'"
      ]
     },
     "execution_count": 38,
     "metadata": {},
     "output_type": "execute_result"
    }
   ],
   "source": [
    "last_idx = len(내가_좋아하는_음식_목록) - 1\n",
    "내가_좋아하는_음식_목록[last_idx]"
   ]
  },
  {
   "cell_type": "code",
   "execution_count": 39,
   "metadata": {},
   "outputs": [
    {
     "data": {
      "text/plain": [
       "'호떡'"
      ]
     },
     "execution_count": 39,
     "metadata": {},
     "output_type": "execute_result"
    }
   ],
   "source": [
    "내가_좋아하는_음식_목록[len(내가_좋아하는_음식_목록) - 1]"
   ]
  },
  {
   "cell_type": "code",
   "execution_count": 40,
   "metadata": {},
   "outputs": [
    {
     "data": {
      "text/plain": [
       "'호떡'"
      ]
     },
     "execution_count": 40,
     "metadata": {},
     "output_type": "execute_result"
    }
   ],
   "source": [
    "내가_좋아하는_음식_목록[-1]"
   ]
  },
  {
   "cell_type": "markdown",
   "metadata": {},
   "source": [
    "# tvcf.co.kr 에서 베스트 CF 목록"
   ]
  },
  {
   "cell_type": "code",
   "execution_count": null,
   "metadata": {},
   "outputs": [],
   "source": [
    "!pip3 install pandas"
   ]
  },
  {
   "cell_type": "code",
   "execution_count": 43,
   "metadata": {},
   "outputs": [],
   "source": [
    "import pandas as pd"
   ]
  },
  {
   "cell_type": "code",
   "execution_count": 44,
   "metadata": {},
   "outputs": [
    {
     "data": {
      "text/plain": [
       "64"
      ]
     },
     "execution_count": 44,
     "metadata": {},
     "output_type": "execute_result"
    }
   ],
   "source": [
    "res = requests.get(\"https://www.tvcf.co.kr/Ranking/Total/List.asp\")\n",
    "html = res.text\n",
    "soup = BeautifulSoup(html, \"html.parser\")\n",
    "tag_list = soup.select(\"#goContents li\")\n",
    "len(tag_list)"
   ]
  },
  {
   "cell_type": "code",
   "execution_count": 45,
   "metadata": {},
   "outputs": [
    {
     "data": {
      "text/plain": [
       "64"
      ]
     },
     "execution_count": 45,
     "metadata": {},
     "output_type": "execute_result"
    }
   ],
   "source": [
    "cf_list = []\n",
    "\n",
    "for tag in tag_list:\n",
    "    date = pd.to_datetime(tag.select_one(\".thum_date01\").text)\n",
    "    url = tag.select_one(\"[target=_blank]\")['href']\n",
    "    cf_id = url.rsplit('/', 1)[-1]\n",
    "    title = tag.select_one(\".title_fix04\").text\n",
    "    score = int(tag.select_one(\".ranking_num01\").text)\n",
    "    is_down = tag.select_one(\".blueA\") != None\n",
    "    is_up = tag.select_one(\".redA\") != None\n",
    "    cf = {\n",
    "        'date': date,\n",
    "        'url': url,\n",
    "        'cf_id': cf_id,\n",
    "        'title': title,\n",
    "        'score': score,\n",
    "        'is_down': is_down,\n",
    "        'is_up': is_up,\n",
    "    }\n",
    "    cf_list.append(cf)\n",
    "\n",
    "len(cf_list)"
   ]
  },
  {
   "cell_type": "code",
   "execution_count": 46,
   "metadata": {},
   "outputs": [
    {
     "data": {
      "text/plain": [
       "{'date': Timestamp('2019-03-08 00:00:00'),\n",
       " 'url': 'https://v.tvcf.co.kr/739976',\n",
       " 'cf_id': '739976',\n",
       " 'title': '오로나민C',\n",
       " 'score': 1646,\n",
       " 'is_down': False,\n",
       " 'is_up': False}"
      ]
     },
     "execution_count": 46,
     "metadata": {},
     "output_type": "execute_result"
    }
   ],
   "source": [
    "cf_list[0]"
   ]
  },
  {
   "cell_type": "code",
   "execution_count": 47,
   "metadata": {},
   "outputs": [
    {
     "data": {
      "text/plain": [
       "{'date': Timestamp('2019-04-01 00:00:00'),\n",
       " 'url': 'https://v.tvcf.co.kr/742939',\n",
       " 'cf_id': '742939',\n",
       " 'title': '다우니 엑스퍼트 실내건조',\n",
       " 'score': 1321,\n",
       " 'is_down': False,\n",
       " 'is_up': False}"
      ]
     },
     "execution_count": 47,
     "metadata": {},
     "output_type": "execute_result"
    }
   ],
   "source": [
    "cf_list[-1]"
   ]
  },
  {
   "cell_type": "code",
   "execution_count": null,
   "metadata": {},
   "outputs": [],
   "source": []
  },
  {
   "cell_type": "markdown",
   "metadata": {},
   "source": [
    "# 사전 (dict)"
   ]
  },
  {
   "cell_type": "code",
   "execution_count": 48,
   "metadata": {},
   "outputs": [
    {
     "data": {
      "text/plain": [
       "100"
      ]
     },
     "execution_count": 48,
     "metadata": {},
     "output_type": "execute_result"
    }
   ],
   "source": [
    "철수_성적 = [100, 90, 80]  # list\n",
    "철수_성적[0]"
   ]
  },
  {
   "cell_type": "code",
   "execution_count": 53,
   "metadata": {},
   "outputs": [
    {
     "ename": "KeyError",
     "evalue": "'사회'",
     "output_type": "error",
     "traceback": [
      "\u001b[0;31m---------------------------------------------------------------------------\u001b[0m",
      "\u001b[0;31mKeyError\u001b[0m                                  Traceback (most recent call last)",
      "\u001b[0;32m<ipython-input-53-fd697c5b8ebf>\u001b[0m in \u001b[0;36m<module>\u001b[0;34m()\u001b[0m\n\u001b[1;32m      1\u001b[0m \u001b[0m철수_성적\u001b[0m \u001b[0;34m=\u001b[0m \u001b[0;34m{\u001b[0m\u001b[0;34m\"국어\"\u001b[0m\u001b[0;34m:\u001b[0m \u001b[0;36m100\u001b[0m\u001b[0;34m,\u001b[0m \u001b[0;34m\"영어\"\u001b[0m\u001b[0;34m:\u001b[0m \u001b[0;36m90\u001b[0m\u001b[0;34m,\u001b[0m \u001b[0;34m\"수학\"\u001b[0m\u001b[0;34m:\u001b[0m \u001b[0;36m80\u001b[0m\u001b[0;34m}\u001b[0m\u001b[0;34m\u001b[0m\u001b[0;34m\u001b[0m\u001b[0m\n\u001b[0;32m----> 2\u001b[0;31m \u001b[0m철수_성적\u001b[0m\u001b[0;34m[\u001b[0m\u001b[0;34m\"사회\"\u001b[0m\u001b[0;34m]\u001b[0m\u001b[0;34m\u001b[0m\u001b[0;34m\u001b[0m\u001b[0m\n\u001b[0m",
      "\u001b[0;31mKeyError\u001b[0m: '사회'"
     ]
    }
   ],
   "source": [
    "철수_성적 = {\"국어\": 100, \"영어\": 90, \"수학\": 80}\n",
    "철수_성적[\"사회\"]"
   ]
  },
  {
   "cell_type": "code",
   "execution_count": 54,
   "metadata": {},
   "outputs": [
    {
     "data": {
      "text/plain": [
       "[{'이름': '김철수', '국어': 100, '영어': 90, '수학': 80},\n",
       " {'이름': '이영희', '국어': 70, '영어': 100, '수학': 90},\n",
       " {'이름': '스티브', '국어': 50, '영어': 100, '수학': 90}]"
      ]
     },
     "execution_count": 54,
     "metadata": {},
     "output_type": "execute_result"
    }
   ],
   "source": [
    "학생_성적_목록 = [\n",
    "    {\"이름\": \"김철수\", \"국어\": 100, \"영어\": 90, \"수학\": 80},\n",
    "    {\"이름\": \"이영희\", \"국어\": 70, \"영어\": 100, \"수학\": 90},\n",
    "    {\"이름\": \"스티브\", \"국어\": 50, \"영어\": 100, \"수학\": 90},\n",
    "]\n",
    "학생_성적_목록"
   ]
  },
  {
   "cell_type": "code",
   "execution_count": 59,
   "metadata": {},
   "outputs": [
    {
     "data": {
      "text/html": [
       "<div>\n",
       "<style scoped>\n",
       "    .dataframe tbody tr th:only-of-type {\n",
       "        vertical-align: middle;\n",
       "    }\n",
       "\n",
       "    .dataframe tbody tr th {\n",
       "        vertical-align: top;\n",
       "    }\n",
       "\n",
       "    .dataframe thead th {\n",
       "        text-align: right;\n",
       "    }\n",
       "</style>\n",
       "<table border=\"1\" class=\"dataframe\">\n",
       "  <thead>\n",
       "    <tr style=\"text-align: right;\">\n",
       "      <th></th>\n",
       "      <th>국어</th>\n",
       "      <th>수학</th>\n",
       "      <th>영어</th>\n",
       "    </tr>\n",
       "    <tr>\n",
       "      <th>이름</th>\n",
       "      <th></th>\n",
       "      <th></th>\n",
       "      <th></th>\n",
       "    </tr>\n",
       "  </thead>\n",
       "  <tbody>\n",
       "    <tr>\n",
       "      <th>김철수</th>\n",
       "      <td>100</td>\n",
       "      <td>80</td>\n",
       "      <td>90</td>\n",
       "    </tr>\n",
       "    <tr>\n",
       "      <th>이영희</th>\n",
       "      <td>70</td>\n",
       "      <td>90</td>\n",
       "      <td>100</td>\n",
       "    </tr>\n",
       "    <tr>\n",
       "      <th>스티브</th>\n",
       "      <td>50</td>\n",
       "      <td>90</td>\n",
       "      <td>100</td>\n",
       "    </tr>\n",
       "  </tbody>\n",
       "</table>\n",
       "</div>"
      ],
      "text/plain": [
       "      국어  수학   영어\n",
       "이름               \n",
       "김철수  100  80   90\n",
       "이영희   70  90  100\n",
       "스티브   50  90  100"
      ]
     },
     "execution_count": 59,
     "metadata": {},
     "output_type": "execute_result"
    }
   ],
   "source": [
    "df = pd.DataFrame(학생_성적_목록, columns=['이름', '국어', '수학', '영어'])\n",
    "df = df.set_index(\"이름\")\n",
    "df.to_excel(\"학생목록.xlsx\")\n",
    "df"
   ]
  },
  {
   "cell_type": "code",
   "execution_count": 60,
   "metadata": {},
   "outputs": [
    {
     "data": {
      "text/plain": [
       "국어    100\n",
       "수학     80\n",
       "영어     90\n",
       "Name: 김철수, dtype: int64"
      ]
     },
     "execution_count": 60,
     "metadata": {},
     "output_type": "execute_result"
    }
   ],
   "source": [
    "df.loc[\"김철수\"]"
   ]
  },
  {
   "cell_type": "code",
   "execution_count": null,
   "metadata": {},
   "outputs": [],
   "source": []
  },
  {
   "cell_type": "code",
   "execution_count": 62,
   "metadata": {},
   "outputs": [
    {
     "data": {
      "text/plain": [
       "64"
      ]
     },
     "execution_count": 62,
     "metadata": {},
     "output_type": "execute_result"
    }
   ],
   "source": [
    "len(cf_list)"
   ]
  },
  {
   "cell_type": "code",
   "execution_count": 66,
   "metadata": {},
   "outputs": [
    {
     "data": {
      "text/plain": [
       "'오로나민C'"
      ]
     },
     "execution_count": 66,
     "metadata": {},
     "output_type": "execute_result"
    }
   ],
   "source": [
    "cf_list[0]['title']"
   ]
  },
  {
   "cell_type": "code",
   "execution_count": 67,
   "metadata": {},
   "outputs": [
    {
     "data": {
      "text/plain": [
       "1646"
      ]
     },
     "execution_count": 67,
     "metadata": {},
     "output_type": "execute_result"
    }
   ],
   "source": [
    "cf_list[0]['score']"
   ]
  },
  {
   "cell_type": "markdown",
   "metadata": {},
   "source": [
    "## 슬라이싱 (slicing)"
   ]
  },
  {
   "cell_type": "code",
   "execution_count": 76,
   "metadata": {},
   "outputs": [
    {
     "data": {
      "text/plain": [
       "[{'date': Timestamp('2019-01-18 00:00:00'),\n",
       "  'url': 'https://v.tvcf.co.kr/735535',\n",
       "  'cf_id': '735535',\n",
       "  'title': '맥심 화이트골드',\n",
       "  'score': 1511,\n",
       "  'is_down': False,\n",
       "  'is_up': True},\n",
       " {'date': Timestamp('2019-02-04 00:00:00'),\n",
       "  'url': 'https://v.tvcf.co.kr/737110',\n",
       "  'cf_id': '737110',\n",
       "  'title': '공익광고협의회',\n",
       "  'score': 1511,\n",
       "  'is_down': True,\n",
       "  'is_up': False}]"
      ]
     },
     "execution_count": 76,
     "metadata": {},
     "output_type": "execute_result"
    }
   ],
   "source": [
    "cf_list[19:21]"
   ]
  },
  {
   "cell_type": "code",
   "execution_count": 79,
   "metadata": {},
   "outputs": [
    {
     "data": {
      "text/plain": [
       "[{'date': Timestamp('2019-03-08 00:00:00'),\n",
       "  'url': 'https://v.tvcf.co.kr/739976',\n",
       "  'cf_id': '739976',\n",
       "  'title': '오로나민C',\n",
       "  'score': 1646,\n",
       "  'is_down': False,\n",
       "  'is_up': False},\n",
       " {'date': Timestamp('2019-03-08 00:00:00'),\n",
       "  'url': 'https://v.tvcf.co.kr/741652',\n",
       "  'cf_id': '741652',\n",
       "  'title': '베이컨박스',\n",
       "  'score': 1603,\n",
       "  'is_down': False,\n",
       "  'is_up': False}]"
      ]
     },
     "execution_count": 79,
     "metadata": {},
     "output_type": "execute_result"
    }
   ],
   "source": [
    "cf_list[0:4:2]"
   ]
  },
  {
   "cell_type": "code",
   "execution_count": 82,
   "metadata": {
    "collapsed": true
   },
   "outputs": [
    {
     "data": {
      "text/plain": [
       "[{'date': Timestamp('2019-03-08 00:00:00'),\n",
       "  'url': 'https://v.tvcf.co.kr/739976',\n",
       "  'cf_id': '739976',\n",
       "  'title': '오로나민C',\n",
       "  'score': 1646,\n",
       "  'is_down': False,\n",
       "  'is_up': False},\n",
       " {'date': Timestamp('2019-02-20 00:00:00'),\n",
       "  'url': 'https://v.tvcf.co.kr/738572',\n",
       "  'cf_id': '738572',\n",
       "  'title': '알바천국',\n",
       "  'score': 1616,\n",
       "  'is_down': False,\n",
       "  'is_up': False},\n",
       " {'date': Timestamp('2019-03-08 00:00:00'),\n",
       "  'url': 'https://v.tvcf.co.kr/741652',\n",
       "  'cf_id': '741652',\n",
       "  'title': '베이컨박스',\n",
       "  'score': 1603,\n",
       "  'is_down': False,\n",
       "  'is_up': False}]"
      ]
     },
     "execution_count": 82,
     "metadata": {},
     "output_type": "execute_result"
    }
   ],
   "source": [
    "# cf_list[0:3]\n",
    "cf_list[:3]  # 위 코드와 동일 => 처음 3개"
   ]
  },
  {
   "cell_type": "code",
   "execution_count": 86,
   "metadata": {
    "collapsed": true
   },
   "outputs": [
    {
     "data": {
      "text/plain": [
       "[{'date': Timestamp('2019-02-23 00:00:00'),\n",
       "  'url': 'https://v.tvcf.co.kr/738824',\n",
       "  'cf_id': '738824',\n",
       "  'title': '엠프로3',\n",
       "  'score': 1366,\n",
       "  'is_down': False,\n",
       "  'is_up': False},\n",
       " {'date': Timestamp('2019-04-01 00:00:00'),\n",
       "  'url': 'https://v.tvcf.co.kr/742794',\n",
       "  'cf_id': '742794',\n",
       "  'title': '미에로화이바',\n",
       "  'score': 1363,\n",
       "  'is_down': False,\n",
       "  'is_up': False},\n",
       " {'date': Timestamp('2019-04-01 00:00:00'),\n",
       "  'url': 'https://v.tvcf.co.kr/742939',\n",
       "  'cf_id': '742939',\n",
       "  'title': '다우니 엑스퍼트 실내건조',\n",
       "  'score': 1321,\n",
       "  'is_down': False,\n",
       "  'is_up': False}]"
      ]
     },
     "execution_count": 86,
     "metadata": {},
     "output_type": "execute_result"
    }
   ],
   "source": [
    "# Quiz: 마지막 3개 ~\n",
    "cf_list[-3:]"
   ]
  },
  {
   "cell_type": "code",
   "execution_count": 87,
   "metadata": {},
   "outputs": [],
   "source": [
    "# 순서가 있는 자료구조 : list, tuple, str"
   ]
  },
  {
   "cell_type": "code",
   "execution_count": 92,
   "metadata": {},
   "outputs": [
    {
     "data": {
      "text/plain": [
       "'사'"
      ]
     },
     "execution_count": 92,
     "metadata": {},
     "output_type": "execute_result"
    }
   ],
   "source": [
    "\"가나다라마바사\"[-1]"
   ]
  },
  {
   "cell_type": "code",
   "execution_count": 93,
   "metadata": {},
   "outputs": [
    {
     "data": {
      "text/plain": [
       "'가나다'"
      ]
     },
     "execution_count": 93,
     "metadata": {},
     "output_type": "execute_result"
    }
   ],
   "source": [
    "\"가나다라마바사\"[:3]"
   ]
  },
  {
   "cell_type": "code",
   "execution_count": 94,
   "metadata": {},
   "outputs": [
    {
     "data": {
      "text/plain": [
       "'마바사'"
      ]
     },
     "execution_count": 94,
     "metadata": {},
     "output_type": "execute_result"
    }
   ],
   "source": [
    "\"가나다라마바사\"[-3:]"
   ]
  },
  {
   "cell_type": "code",
   "execution_count": 95,
   "metadata": {},
   "outputs": [
    {
     "data": {
      "text/plain": [
       "'다라마'"
      ]
     },
     "execution_count": 95,
     "metadata": {},
     "output_type": "execute_result"
    }
   ],
   "source": [
    "\"가나다라마바사\"[2:-2]"
   ]
  },
  {
   "cell_type": "code",
   "execution_count": 96,
   "metadata": {},
   "outputs": [
    {
     "data": {
      "text/plain": [
       "'사바마라다나가'"
      ]
     },
     "execution_count": 96,
     "metadata": {},
     "output_type": "execute_result"
    }
   ],
   "source": [
    "\"가나다라마바사\"[::-1]"
   ]
  },
  {
   "cell_type": "markdown",
   "metadata": {},
   "source": [
    "# 예시 데이터) 멜론 차트"
   ]
  },
  {
   "cell_type": "code",
   "execution_count": 97,
   "metadata": {
    "collapsed": true
   },
   "outputs": [
    {
     "data": {
      "text/plain": [
       "[{'곡일련번호': 31346009,\n",
       "  '순위': 1,\n",
       "  '앨범': '삐삐',\n",
       "  '곡명': '삐삐',\n",
       "  '가수': '아이유',\n",
       "  '커버이미지_주소': 'https://cdnimg.melon.co.kr/cm/album/images/102/10/535/10210535_500.jpg/melon/resize/120/quality/80/optimize',\n",
       "  '좋아요': 61528},\n",
       " {'곡일련번호': 31344113,\n",
       "  '순위': 2,\n",
       "  '앨범': '시간이 들겠지',\n",
       "  '곡명': '시간이 들겠지 (Feat. Colde)',\n",
       "  '가수': '로꼬',\n",
       "  '커버이미지_주소': 'https://cdnimg.melon.co.kr/cm/album/images/102/10/198/10210198_500.jpg/melon/resize/120/quality/80/optimize',\n",
       "  '좋아요': 48331},\n",
       " {'곡일련번호': 31340985,\n",
       "  '순위': 3,\n",
       "  '앨범': '쇼미더머니 777 Episode 1',\n",
       "  '곡명': 'Good Day (Feat. 팔로알토) (Prod. 코드 쿤스트)',\n",
       "  '가수': 'pH-1',\n",
       "  '커버이미지_주소': 'https://cdnimg.melon.co.kr/cm/album/images/102/09/647/10209647_500.jpg/melon/resize/120/quality/80/optimize',\n",
       "  '좋아요': 54022},\n",
       " {'곡일련번호': 31316695,\n",
       "  '순위': 4,\n",
       "  '앨범': '하루도 그대를 사랑하지 않은 적이 없었다',\n",
       "  '곡명': '하루도 그대를 사랑하지 않은 적이 없었다',\n",
       "  '가수': '임창정',\n",
       "  '커버이미지_주소': 'https://cdnimg.melon.co.kr/cm/album/images/102/05/805/10205805_500.jpg/melon/resize/120/quality/80/optimize',\n",
       "  '좋아요': 97984},\n",
       " {'곡일련번호': 31266290,\n",
       "  '순위': 5,\n",
       "  '앨범': 'LOVE YOURSELF 結 `Answer`',\n",
       "  '곡명': 'IDOL',\n",
       "  '가수': '방탄소년단',\n",
       "  '커버이미지_주소': 'https://cdnimg.melon.co.kr/cm/album/images/101/97/480/10197480_500.jpg/melon/resize/120/quality/80/optimize',\n",
       "  '좋아요': 173279},\n",
       " {'곡일련번호': 31331745,\n",
       "  '순위': 6,\n",
       "  '앨범': 'NEW KIDS : THE FINAL',\n",
       "  '곡명': '이별길 (GOODBYE ROAD)',\n",
       "  '가수': 'iKON',\n",
       "  '커버이미지_주소': 'https://cdnimg.melon.co.kr/cm/album/images/102/08/358/10208358_500.jpg/melon/resize/120/quality/80/optimize',\n",
       "  '좋아요': 55396},\n",
       " {'곡일련번호': 31340982,\n",
       "  '순위': 7,\n",
       "  '앨범': '쇼미더머니 777 Episode 1',\n",
       "  '곡명': '사임사임 (Feat. CHANGMO)',\n",
       "  '가수': 'Coogie',\n",
       "  '커버이미지_주소': 'https://cdnimg.melon.co.kr/cm/album/images/102/09/647/10209647_500.jpg/melon/resize/120/quality/80/optimize',\n",
       "  '좋아요': 27564},\n",
       " {'곡일련번호': 31266289,\n",
       "  '순위': 8,\n",
       "  '앨범': 'LOVE YOURSELF 結 `Answer`',\n",
       "  '곡명': 'I`m Fine',\n",
       "  '가수': '방탄소년단',\n",
       "  '커버이미지_주소': 'https://cdnimg.melon.co.kr/cm/album/images/101/97/480/10197480_500.jpg/melon/resize/120/quality/80/optimize',\n",
       "  '좋아요': 132847},\n",
       " {'곡일련번호': 31314142,\n",
       "  '순위': 9,\n",
       "  '앨범': '우리 그만하자',\n",
       "  '곡명': '우리 그만하자',\n",
       "  '가수': '로이킴',\n",
       "  '커버이미지_주소': 'https://cdnimg.melon.co.kr/cm/album/images/102/05/438/10205438_500.jpg/melon/resize/120/quality/80/optimize',\n",
       "  '좋아요': 95771},\n",
       " {'곡일련번호': 31085237,\n",
       "  '순위': 10,\n",
       "  '앨범': 'LOVE YOURSELF 轉 `Tear`',\n",
       "  '곡명': 'FAKE LOVE',\n",
       "  '가수': '방탄소년단',\n",
       "  '커버이미지_주소': 'https://cdnimg.melon.co.kr/cm/album/images/101/68/559/10168559_500.jpg/melon/resize/120/quality/80/optimize',\n",
       "  '좋아요': 253847},\n",
       " {'곡일련번호': 31314144,\n",
       "  '순위': 11,\n",
       "  '앨범': '가을 타나 봐',\n",
       "  '곡명': '가을 타나 봐',\n",
       "  '가수': '바이브',\n",
       "  '커버이미지_주소': 'https://cdnimg.melon.co.kr/cm/album/images/102/05/439/10205439_500.jpg/melon/resize/120/quality/80/optimize',\n",
       "  '좋아요': 28056},\n",
       " {'곡일련번호': 31266282,\n",
       "  '순위': 12,\n",
       "  '앨범': 'LOVE YOURSELF 結 `Answer`',\n",
       "  '곡명': 'Euphoria',\n",
       "  '가수': '방탄소년단',\n",
       "  '커버이미지_주소': 'https://cdnimg.melon.co.kr/cm/album/images/101/97/480/10197480_500.jpg/melon/resize/120/quality/80/optimize',\n",
       "  '좋아요': 129017},\n",
       " {'곡일련번호': 31302310,\n",
       "  '순위': 13,\n",
       "  '앨범': '헤어지는 중',\n",
       "  '곡명': '헤어지는 중',\n",
       "  '가수': '펀치 (Punch)',\n",
       "  '커버이미지_주소': 'https://cdnimg.melon.co.kr/cm/album/images/102/03/500/10203500_500.jpg/melon/resize/120/quality/80/optimize',\n",
       "  '좋아요': 77050},\n",
       " {'곡일련번호': 31266291,\n",
       "  '순위': 14,\n",
       "  '앨범': 'LOVE YOURSELF 結 `Answer`',\n",
       "  '곡명': 'Answer : Love Myself',\n",
       "  '가수': '방탄소년단',\n",
       "  '커버이미지_주소': 'https://cdnimg.melon.co.kr/cm/album/images/101/97/480/10197480_500.jpg/melon/resize/120/quality/80/optimize',\n",
       "  '좋아요': 108151},\n",
       " {'곡일련번호': 31085238,\n",
       "  '순위': 15,\n",
       "  '앨범': 'LOVE YOURSELF 轉 `Tear`',\n",
       "  '곡명': '전하지 못한 진심 (Feat. Steve Aoki)',\n",
       "  '가수': '방탄소년단',\n",
       "  '커버이미지_주소': 'https://cdnimg.melon.co.kr/cm/album/images/101/68/559/10168559_500.jpg/melon/resize/120/quality/80/optimize',\n",
       "  '좋아요': 176653},\n",
       " {'곡일련번호': 31266288,\n",
       "  '순위': 16,\n",
       "  '앨범': 'LOVE YOURSELF 結 `Answer`',\n",
       "  '곡명': 'Epiphany',\n",
       "  '가수': '방탄소년단',\n",
       "  '커버이미지_주소': 'https://cdnimg.melon.co.kr/cm/album/images/101/97/480/10197480_500.jpg/melon/resize/120/quality/80/optimize',\n",
       "  '좋아요': 101011},\n",
       " {'곡일련번호': 31266286,\n",
       "  '순위': 17,\n",
       "  '앨범': 'LOVE YOURSELF 結 `Answer`',\n",
       "  '곡명': 'Trivia 轉 : Seesaw',\n",
       "  '가수': '방탄소년단',\n",
       "  '커버이미지_주소': 'https://cdnimg.melon.co.kr/cm/album/images/101/97/480/10197480_500.jpg/melon/resize/120/quality/80/optimize',\n",
       "  '좋아요': 98436},\n",
       " {'곡일련번호': 30962526,\n",
       "  '순위': 18,\n",
       "  '앨범': '`키스 먼저 할까요?` OST Part.3',\n",
       "  '곡명': '모든 날, 모든 순간 (Every day, Every Moment)',\n",
       "  '가수': '폴킴',\n",
       "  '커버이미지_주소': 'https://cdnimg.melon.co.kr/cm/album/images/101/49/492/10149492_500.jpg/melon/resize/120/quality/80/optimize',\n",
       "  '좋아요': 185706},\n",
       " {'곡일련번호': 31280273,\n",
       "  '순위': 19,\n",
       "  '앨범': 'YOUNG',\n",
       "  '곡명': 'YOUNG',\n",
       "  '가수': '백현 (BAEKHYUN)',\n",
       "  '커버이미지_주소': 'https://cdnimg.melon.co.kr/cm/album/images/101/99/959/10199959_500.jpg/melon/resize/120/quality/80/optimize',\n",
       "  '좋아요': 91106},\n",
       " {'곡일련번호': 31266292,\n",
       "  '순위': 20,\n",
       "  '앨범': 'LOVE YOURSELF 結 `Answer`',\n",
       "  '곡명': 'Trivia 起 : Just Dance',\n",
       "  '가수': '방탄소년단',\n",
       "  '커버이미지_주소': 'https://cdnimg.melon.co.kr/cm/album/images/101/97/480/10197480_500.jpg/melon/resize/120/quality/80/optimize',\n",
       "  '좋아요': 88970},\n",
       " {'곡일련번호': 31286161,\n",
       "  '순위': 21,\n",
       "  '앨범': 'WARNING',\n",
       "  '곡명': '사이렌 (Siren)',\n",
       "  '가수': '선미',\n",
       "  '커버이미지_주소': 'https://cdnimg.melon.co.kr/cm/album/images/102/00/838/10200838_500.jpg/melon/resize/120/quality/80/optimize',\n",
       "  '좋아요': 91516},\n",
       " {'곡일련번호': 31266300,\n",
       "  '순위': 22,\n",
       "  '앨범': 'LOVE YOURSELF 結 `Answer`',\n",
       "  '곡명': 'Trivia 承 : Love',\n",
       "  '가수': '방탄소년단',\n",
       "  '커버이미지_주소': 'https://cdnimg.melon.co.kr/cm/album/images/101/97/480/10197480_500.jpg/melon/resize/120/quality/80/optimize',\n",
       "  '좋아요': 83610},\n",
       " {'곡일련번호': 31062863,\n",
       "  '순위': 23,\n",
       "  '앨범': 'RECIPE',\n",
       "  '곡명': '열애중',\n",
       "  '가수': '벤',\n",
       "  '커버이미지_주소': 'https://cdnimg.melon.co.kr/cm/album/images/101/64/839/10164839_500.jpg/melon/resize/120/quality/80/optimize',\n",
       "  '좋아요': 115805},\n",
       " {'곡일련번호': 31151836,\n",
       "  '순위': 24,\n",
       "  '앨범': 'Take',\n",
       "  '곡명': 'Way Back Home',\n",
       "  '가수': '숀 (SHAUN)',\n",
       "  '커버이미지_주소': 'https://cdnimg.melon.co.kr/cm/album/images/101/79/508/10179508_500.jpg/melon/resize/120/quality/80/optimize',\n",
       "  '좋아요': 225308},\n",
       " {'곡일련번호': 31085244,\n",
       "  '순위': 25,\n",
       "  '앨범': 'LOVE YOURSELF 轉 `Tear`',\n",
       "  '곡명': 'Anpanman',\n",
       "  '가수': '방탄소년단',\n",
       "  '커버이미지_주소': 'https://cdnimg.melon.co.kr/cm/album/images/101/68/559/10168559_500.jpg/melon/resize/120/quality/80/optimize',\n",
       "  '좋아요': 138694},\n",
       " {'곡일련번호': 30244931,\n",
       "  '순위': 26,\n",
       "  '앨범': 'YOU NEVER WALK ALONE',\n",
       "  '곡명': '봄날',\n",
       "  '가수': '방탄소년단',\n",
       "  '커버이미지_주소': 'https://cdnimg.melon.co.kr/cm/album/images/100/37/969/10037969_500.jpg/melon/resize/120/quality/80/optimize',\n",
       "  '좋아요': 359130},\n",
       " {'곡일련번호': 30637982,\n",
       "  '순위': 27,\n",
       "  '앨범': 'LOVE YOURSELF 承 `Her`',\n",
       "  '곡명': 'DNA',\n",
       "  '가수': '방탄소년단',\n",
       "  '커버이미지_주소': 'https://cdnimg.melon.co.kr/cm/album/images/100/97/112/10097112_500.jpg/melon/resize/120/quality/80/optimize',\n",
       "  '좋아요': 323911},\n",
       " {'곡일련번호': 31085243,\n",
       "  '순위': 28,\n",
       "  '앨범': 'LOVE YOURSELF 轉 `Tear`',\n",
       "  '곡명': 'Airplane pt.2',\n",
       "  '가수': '방탄소년단',\n",
       "  '커버이미지_주소': 'https://cdnimg.melon.co.kr/cm/album/images/101/68/559/10168559_500.jpg/melon/resize/120/quality/80/optimize',\n",
       "  '좋아요': 127355},\n",
       " {'곡일련번호': 30806536,\n",
       "  '순위': 29,\n",
       "  '앨범': 'Universe - 겨울 스페셜 앨범, 2017',\n",
       "  '곡명': 'Universe',\n",
       "  '가수': 'EXO',\n",
       "  '커버이미지_주소': 'https://cdnimg.melon.co.kr/cm/album/images/101/22/917/10122917_500.jpg/melon/resize/120/quality/80/optimize',\n",
       "  '좋아요': 155809},\n",
       " {'곡일련번호': 31309079,\n",
       "  '순위': 30,\n",
       "  '앨범': 'We Young',\n",
       "  '곡명': 'We Young',\n",
       "  '가수': '찬열',\n",
       "  '커버이미지_주소': 'https://cdnimg.melon.co.kr/cm/album/images/102/04/604/10204604_500.jpg/melon/resize/120/quality/80/optimize',\n",
       "  '좋아요': 53852},\n",
       " {'곡일련번호': 31219546,\n",
       "  '순위': 31,\n",
       "  '앨범': 'Dingo X Indigo Music',\n",
       "  '곡명': 'flex (Prod. By 기리보이)',\n",
       "  '가수': '기리보이',\n",
       "  '커버이미지_주소': 'https://cdnimg.melon.co.kr/cm/album/images/101/89/965/10189965_500.jpg/melon/resize/120/quality/80/optimize',\n",
       "  '좋아요': 72135},\n",
       " {'곡일련번호': 31009483,\n",
       "  '순위': 32,\n",
       "  '앨범': 'Blooming Days - The 2nd Mini Album',\n",
       "  '곡명': '花요일 (Blooming Day)',\n",
       "  '가수': 'EXO-CBX (첸백시)',\n",
       "  '커버이미지_주소': 'https://cdnimg.melon.co.kr/cm/album/images/101/56/597/10156597_500.jpg/melon/resize/120/quality/80/optimize',\n",
       "  '좋아요': 110311},\n",
       " {'곡일련번호': 31144690,\n",
       "  '순위': 33,\n",
       "  '앨범': 'IM',\n",
       "  '곡명': 'IndiGO',\n",
       "  '가수': '저스디스 (JUSTHIS)',\n",
       "  '커버이미지_주소': 'https://cdnimg.melon.co.kr/cm/album/images/101/78/566/10178566_500.jpg/melon/resize/120/quality/80/optimize',\n",
       "  '좋아요': 46739},\n",
       " {'곡일련번호': 31278454,\n",
       "  '순위': 34,\n",
       "  '앨범': 'Sheep (Alan Walker Relift)',\n",
       "  '곡명': 'Sheep (Alan Walker Relift)',\n",
       "  '가수': '레이 (LAY)',\n",
       "  '커버이미지_주소': 'https://cdnimg.melon.co.kr/cm/album/images/101/99/693/10199693_500.jpg/melon/resize/120/quality/80/optimize',\n",
       "  '좋아요': 30411},\n",
       " {'곡일련번호': 31131273,\n",
       "  '순위': 35,\n",
       "  '앨범': 'SQUARE UP',\n",
       "  '곡명': '뚜두뚜두 (DDU-DU DDU-DU)',\n",
       "  '가수': 'BLACKPINK',\n",
       "  '커버이미지_주소': 'https://cdnimg.melon.co.kr/cm/album/images/101/76/415/10176415_500.jpg/melon/resize/120/quality/80/optimize',\n",
       "  '좋아요': 192831},\n",
       " {'곡일련번호': 30699142,\n",
       "  '순위': 36,\n",
       "  '앨범': 'About You',\n",
       "  '곡명': '지나오다',\n",
       "  '가수': '닐로 (Nilo)',\n",
       "  '커버이미지_주소': 'https://cdnimg.melon.co.kr/cm/album/images/101/06/853/10106853_500.jpg/melon/resize/120/quality/80/optimize',\n",
       "  '좋아요': 178367},\n",
       " {'곡일련번호': 31175119,\n",
       "  '순위': 37,\n",
       "  '앨범': 'Summer Nights',\n",
       "  '곡명': 'Dance The Night Away',\n",
       "  '가수': 'TWICE (트와이스)',\n",
       "  '커버이미지_주소': 'https://cdnimg.melon.co.kr/cm/album/images/101/83/127/10183127_500.jpg/melon/resize/120/quality/80/optimize',\n",
       "  '좋아요': 127052},\n",
       " {'곡일련번호': 31331750,\n",
       "  '순위': 38,\n",
       "  '앨범': 'r',\n",
       "  '곡명': '나',\n",
       "  '가수': '박원',\n",
       "  '커버이미지_주소': 'https://cdnimg.melon.co.kr/cm/album/images/102/08/360/10208360_500.jpg/melon/resize/120/quality/80/optimize',\n",
       "  '좋아요': 26696},\n",
       " {'곡일련번호': 31113240,\n",
       "  '순위': 39,\n",
       "  '앨범': '1÷χ=1 (UNDIVIDED)',\n",
       "  '곡명': '켜줘 (Light)',\n",
       "  '가수': 'Wanna One (워너원)',\n",
       "  '커버이미지_주소': 'https://cdnimg.melon.co.kr/cm/album/images/101/73/365/10173365_500.jpg/melon/resize/120/quality/80/optimize',\n",
       "  '좋아요': 112878},\n",
       " {'곡일련번호': 31230093,\n",
       "  '순위': 40,\n",
       "  '앨범': 'Summer Magic - Summer Mini Album',\n",
       "  '곡명': 'Power Up',\n",
       "  '가수': 'Red Velvet (레드벨벳)',\n",
       "  '커버이미지_주소': 'https://cdnimg.melon.co.kr/cm/album/images/101/91/694/10191694_500.jpg/melon/resize/120/quality/80/optimize',\n",
       "  '좋아요': 130949},\n",
       " {'곡일련번호': 30568338,\n",
       "  '순위': 41,\n",
       "  '앨범': '1X1=1(TO BE ONE)',\n",
       "  '곡명': '에너제틱 (Energetic)',\n",
       "  '가수': 'Wanna One (워너원)',\n",
       "  '커버이미지_주소': 'https://cdnimg.melon.co.kr/cm/album/images/100/85/951/10085951_500.jpg/melon/resize/120/quality/80/optimize',\n",
       "  '좋아요': 268394},\n",
       " {'곡일련번호': 30859584,\n",
       "  '순위': 42,\n",
       "  '앨범': 'Return',\n",
       "  '곡명': '사랑을 했다 (LOVE SCENARIO)',\n",
       "  '가수': 'iKON',\n",
       "  '커버이미지_주소': 'https://cdnimg.melon.co.kr/cm/album/images/101/32/945/10132945_500.jpg/melon/resize/120/quality/80/optimize',\n",
       "  '좋아요': 267692},\n",
       " {'곡일련번호': 31304766,\n",
       "  '순위': 43,\n",
       "  '앨범': '이별하러 가는 길',\n",
       "  '곡명': '이별하러 가는 길',\n",
       "  '가수': '임한별',\n",
       "  '커버이미지_주소': 'https://cdnimg.melon.co.kr/cm/album/images/102/03/965/10203965_500.jpg/melon/resize/120/quality/80/optimize',\n",
       "  '좋아요': 25182},\n",
       " {'곡일련번호': 30960341,\n",
       "  '순위': 44,\n",
       "  '앨범': '0+1=1 (I PROMISE YOU)',\n",
       "  '곡명': 'BOOMERANG (부메랑)',\n",
       "  '가수': 'Wanna One (워너원)',\n",
       "  '커버이미지_주소': 'https://cdnimg.melon.co.kr/cm/album/images/101/44/723/10144723_2_500.jpg/melon/resize/120/quality/80/optimize',\n",
       "  '좋아요': 124968},\n",
       " {'곡일련번호': 30725482,\n",
       "  '순위': 45,\n",
       "  '앨범': '1-1=0 (NOTHING WITHOUT YOU)',\n",
       "  '곡명': 'Beautiful',\n",
       "  '가수': 'Wanna One (워너원)',\n",
       "  '커버이미지_주소': 'https://cdnimg.melon.co.kr/cm/album/images/101/11/029/10111029_500.jpg/melon/resize/120/quality/80/optimize',\n",
       "  '좋아요': 216065},\n",
       " {'곡일련번호': 31093710,\n",
       "  '순위': 46,\n",
       "  '앨범': 'Red Diary Page.2',\n",
       "  '곡명': '여행',\n",
       "  '가수': '볼빨간사춘기',\n",
       "  '커버이미지_주소': 'https://cdnimg.melon.co.kr/cm/album/images/101/70/069/10170069_500.jpg/melon/resize/120/quality/80/optimize',\n",
       "  '좋아요': 190489},\n",
       " {'곡일련번호': 31113241,\n",
       "  '순위': 47,\n",
       "  '앨범': '1÷χ=1 (UNDIVIDED)',\n",
       "  '곡명': '캥거루 (Kangaroo) (Prod. ZICO)',\n",
       "  '가수': 'Wanna One (워너원) - 트리플포지션',\n",
       "  '커버이미지_주소': 'https://cdnimg.melon.co.kr/cm/album/images/101/73/365/10173365_500.jpg/melon/resize/120/quality/80/optimize',\n",
       "  '좋아요': 104852},\n",
       " {'곡일련번호': 31189241,\n",
       "  '순위': 48,\n",
       "  '앨범': 'RED MOON',\n",
       "  '곡명': '너나 해 (Egotistic)',\n",
       "  '가수': '마마무(Mamamoo)',\n",
       "  '커버이미지_주소': 'https://cdnimg.melon.co.kr/cm/album/images/101/85/416/10185416_500.jpg/melon/resize/120/quality/80/optimize',\n",
       "  '좋아요': 94861},\n",
       " {'곡일련번호': 30884950,\n",
       "  '순위': 49,\n",
       "  '앨범': '그때 헤어지면 돼',\n",
       "  '곡명': '그때 헤어지면 돼',\n",
       "  '가수': '로이킴',\n",
       "  '커버이미지_주소': 'https://cdnimg.melon.co.kr/cm/album/images/101/37/574/10137574_500.jpg/melon/resize/120/quality/80/optimize',\n",
       "  '좋아요': 176025},\n",
       " {'곡일련번호': 30809895,\n",
       "  '순위': 50,\n",
       "  '앨범': 'inside',\n",
       "  '곡명': '미안해',\n",
       "  '가수': '양다일',\n",
       "  '커버이미지_주소': 'https://cdnimg.melon.co.kr/cm/album/images/101/23/639/10123639_500.jpg/melon/resize/120/quality/80/optimize',\n",
       "  '좋아요': 115955},\n",
       " {'곡일련번호': 31224316,\n",
       "  '순위': 51,\n",
       "  '앨범': 'NEW KIDS : CONTINUE',\n",
       "  '곡명': '죽겠다 (KILLING ME)',\n",
       "  '가수': 'iKON',\n",
       "  '커버이미지_주소': 'https://cdnimg.melon.co.kr/cm/album/images/101/90/854/10190854_500.jpg/melon/resize/120/quality/80/optimize',\n",
       "  '좋아요': 66253},\n",
       " {'곡일련번호': 8235260,\n",
       "  '순위': 52,\n",
       "  '앨범': '비',\n",
       "  '곡명': '비',\n",
       "  '가수': '폴킴',\n",
       "  '커버이미지_주소': 'https://cdnimg.melon.co.kr/cm/album/images/026/92/501/2692501_500.jpg/melon/resize/120/quality/80/optimize',\n",
       "  '좋아요': 156761},\n",
       " {'곡일련번호': 30669593,\n",
       "  '순위': 53,\n",
       "  '앨범': '가을 안부',\n",
       "  '곡명': '가을 안부',\n",
       "  '가수': '먼데이 키즈 (Monday Kiz)',\n",
       "  '커버이미지_주소': 'https://cdnimg.melon.co.kr/cm/album/images/101/02/177/10102177_500.jpg/melon/resize/120/quality/80/optimize',\n",
       "  '좋아요': 109447},\n",
       " {'곡일련번호': 31133898,\n",
       "  '순위': 54,\n",
       "  '앨범': 'THIS IS US',\n",
       "  '곡명': '너 없인 안 된다',\n",
       "  '가수': '비투비',\n",
       "  '커버이미지_주소': 'https://cdnimg.melon.co.kr/cm/album/images/101/75/106/10175106_500.jpg/melon/resize/120/quality/80/optimize',\n",
       "  '좋아요': 132726},\n",
       " {'곡일련번호': 31346039,\n",
       "  '순위': 55,\n",
       "  '앨범': 'ABOUT ME',\n",
       "  '곡명': 'Not A Love',\n",
       "  '가수': '바이브',\n",
       "  '커버이미지_주소': 'https://cdnimg.melon.co.kr/cm/album/images/102/10/541/10210541_500.jpg/melon/resize/120/quality/80/optimize',\n",
       "  '좋아요': 2508},\n",
       " {'곡일련번호': 31164090,\n",
       "  '순위': 56,\n",
       "  '앨범': 'The Fairy Tale',\n",
       "  '곡명': '동화',\n",
       "  '가수': '멜로망스',\n",
       "  '커버이미지_주소': 'https://cdnimg.melon.co.kr/cm/album/images/101/81/438/10181438_500.jpg/melon/resize/120/quality/80/optimize',\n",
       "  '좋아요': 81522},\n",
       " {'곡일련번호': 31199873,\n",
       "  '순위': 57,\n",
       "  '앨범': 'THE GREAT SEUNGRI',\n",
       "  '곡명': '셋 셀테니 (1, 2, 3!)',\n",
       "  '가수': '승리',\n",
       "  '커버이미지_주소': 'https://cdnimg.melon.co.kr/cm/album/images/101/87/129/10187129_500.jpg/melon/resize/120/quality/80/optimize',\n",
       "  '좋아요': 78381},\n",
       " {'곡일련번호': 31161280,\n",
       "  '순위': 58,\n",
       "  '앨범': 'ONE & SIX',\n",
       "  '곡명': '1도 없어',\n",
       "  '가수': 'Apink (에이핑크)',\n",
       "  '커버이미지_주소': 'https://cdnimg.melon.co.kr/cm/album/images/101/81/013/10181013_500.jpg/melon/resize/120/quality/80/optimize',\n",
       "  '좋아요': 88037},\n",
       " {'곡일련번호': 30314784,\n",
       "  '순위': 59,\n",
       "  '앨범': '밤편지',\n",
       "  '곡명': '밤편지',\n",
       "  '가수': '아이유',\n",
       "  '커버이미지_주소': 'https://cdnimg.melon.co.kr/cm/album/images/100/47/890/10047890_500.jpg/melon/resize/120/quality/80/optimize',\n",
       "  '좋아요': 283167},\n",
       " {'곡일련번호': 31215747,\n",
       "  '순위': 60,\n",
       "  '앨범': 'SoulMate',\n",
       "  '곡명': 'SoulMate (Feat. 아이유)',\n",
       "  '가수': '지코 (ZICO)',\n",
       "  '커버이미지_주소': 'https://cdnimg.melon.co.kr/cm/album/images/101/89/402/10189402_500.jpg/melon/resize/120/quality/80/optimize',\n",
       "  '좋아요': 113443},\n",
       " {'곡일련번호': 31189085,\n",
       "  '순위': 61,\n",
       "  '앨범': 'SEVENTEEN 5TH MINI ALBUM `YOU MAKE MY DAY`',\n",
       "  '곡명': '어쩌나',\n",
       "  '가수': '세븐틴',\n",
       "  '커버이미지_주소': 'https://cdnimg.melon.co.kr/cm/album/images/101/85/387/10185387_500.jpg/melon/resize/120/quality/80/optimize',\n",
       "  '좋아요': 64770},\n",
       " {'곡일련번호': 31244486,\n",
       "  '순위': 62,\n",
       "  '앨범': 'A-TEEN Part.3',\n",
       "  '곡명': 'A-TEEN',\n",
       "  '가수': '세븐틴',\n",
       "  '커버이미지_주소': 'https://cdnimg.melon.co.kr/cm/album/images/101/94/044/10194044_500.jpg/melon/resize/120/quality/80/optimize',\n",
       "  '좋아요': 75932},\n",
       " {'곡일련번호': 30755375,\n",
       "  '순위': 63,\n",
       "  '앨범': '그날처럼',\n",
       "  '곡명': '그날처럼',\n",
       "  '가수': '장덕철',\n",
       "  '커버이미지_주소': 'https://cdnimg.melon.co.kr/cm/album/images/101/15/186/10115186_500.jpg/melon/resize/120/quality/80/optimize',\n",
       "  '좋아요': 208427},\n",
       " {'곡일련번호': 31113243,\n",
       "  '순위': 64,\n",
       "  '앨범': '1÷χ=1 (UNDIVIDED)',\n",
       "  '곡명': '모래시계 (Prod. 헤이즈)',\n",
       "  '가수': 'Wanna One (워너원) - 더힐',\n",
       "  '커버이미지_주소': 'https://cdnimg.melon.co.kr/cm/album/images/101/73/365/10173365_500.jpg/melon/resize/120/quality/80/optimize',\n",
       "  '좋아요': 83296},\n",
       " {'곡일련번호': 30672529,\n",
       "  '순위': 65,\n",
       "  '앨범': 'Brother Act.',\n",
       "  '곡명': '그리워하다',\n",
       "  '가수': '비투비',\n",
       "  '커버이미지_주소': 'https://cdnimg.melon.co.kr/cm/album/images/101/02/658/10102658_500.jpg/melon/resize/120/quality/80/optimize',\n",
       "  '좋아요': 203463},\n",
       " {'곡일련번호': 9642570,\n",
       "  '순위': 66,\n",
       "  '앨범': '넋두리',\n",
       "  '곡명': '넋두리',\n",
       "  '가수': '닐로 (Nilo)',\n",
       "  '커버이미지_주소': 'https://cdnimg.melon.co.kr/cm/album/images/027/10/553/2710553_500.jpg/melon/resize/120/quality/80/optimize',\n",
       "  '좋아요': 81028},\n",
       " {'곡일련번호': 30930312,\n",
       "  '순위': 67,\n",
       "  '앨범': '0+1=1 (I PROMISE YOU)',\n",
       "  '곡명': '약속해요 (I.P.U.)',\n",
       "  '가수': 'Wanna One (워너원)',\n",
       "  '커버이미지_주소': 'https://cdnimg.melon.co.kr/cm/album/images/101/44/723/10144723_2_500.jpg/melon/resize/120/quality/80/optimize',\n",
       "  '좋아요': 137141},\n",
       " {'곡일련번호': 31263577,\n",
       "  '순위': 68,\n",
       "  '앨범': '4.1',\n",
       "  '곡명': '매트리스',\n",
       "  '가수': '10cm',\n",
       "  '커버이미지_주소': 'https://cdnimg.melon.co.kr/cm/album/images/101/96/980/10196980_500.jpg/melon/resize/120/quality/80/optimize',\n",
       "  '좋아요': 62312},\n",
       " {'곡일련번호': 31340983,\n",
       "  '순위': 69,\n",
       "  '앨범': '쇼미더머니 777 Episode 1',\n",
       "  '곡명': '공상과학기술 (Feat. 기리보이, 스윙스)',\n",
       "  '가수': 'nafla',\n",
       "  '커버이미지_주소': 'https://cdnimg.melon.co.kr/cm/album/images/102/09/647/10209647_500.jpg/melon/resize/120/quality/80/optimize',\n",
       "  '좋아요': 13148},\n",
       " {'곡일련번호': 31131274,\n",
       "  '순위': 70,\n",
       "  '앨범': 'SQUARE UP',\n",
       "  '곡명': 'Forever Young',\n",
       "  '가수': 'BLACKPINK',\n",
       "  '커버이미지_주소': 'https://cdnimg.melon.co.kr/cm/album/images/101/76/415/10176415_500.jpg/melon/resize/120/quality/80/optimize',\n",
       "  '좋아요': 119422},\n",
       " {'곡일련번호': 31246870,\n",
       "  '순위': 71,\n",
       "  '앨범': '한(一)',\n",
       "  '곡명': '한(一)',\n",
       "  '가수': '(여자)아이들',\n",
       "  '커버이미지_주소': 'https://cdnimg.melon.co.kr/cm/album/images/101/94/362/10194362_500.jpg/melon/resize/120/quality/80/optimize',\n",
       "  '좋아요': 69062},\n",
       " {'곡일련번호': 31035061,\n",
       "  '순위': 72,\n",
       "  '앨범': '건반 위의 하이에나 Part.4',\n",
       "  '곡명': '주지마',\n",
       "  '가수': '로꼬',\n",
       "  '커버이미지_주소': 'https://cdnimg.melon.co.kr/cm/album/images/101/60/487/10160487_500.jpg/melon/resize/120/quality/80/optimize',\n",
       "  '좋아요': 154263},\n",
       " {'곡일련번호': 31147211,\n",
       "  '순위': 73,\n",
       "  '앨범': 'WHO, YOU',\n",
       "  '곡명': 'Dejavu',\n",
       "  '가수': '뉴이스트 W',\n",
       "  '커버이미지_주소': 'https://cdnimg.melon.co.kr/cm/album/images/101/78/912/10178912_500.jpg/melon/resize/120/quality/80/optimize',\n",
       "  '좋아요': 53081},\n",
       " {'곡일련번호': 30849733,\n",
       "  '순위': 74,\n",
       "  '앨범': '투유 프로젝트 - 슈가맨2 Part.2',\n",
       "  '곡명': 'You',\n",
       "  '가수': '멜로망스',\n",
       "  '커버이미지_주소': 'https://cdnimg.melon.co.kr/cm/album/images/101/31/018/10131018_500.jpg/melon/resize/120/quality/80/optimize',\n",
       "  '좋아요': 141103},\n",
       " {'곡일련번호': 31340984,\n",
       "  '순위': 75,\n",
       "  '앨범': '쇼미더머니 777 Episode 1',\n",
       "  '곡명': '패 (Feat. 넉살, 딥플로우)',\n",
       "  '가수': '김효은',\n",
       "  '커버이미지_주소': 'https://cdnimg.melon.co.kr/cm/album/images/102/09/647/10209647_500.jpg/melon/resize/120/quality/80/optimize',\n",
       "  '좋아요': 10536},\n",
       " {'곡일련번호': 31309947,\n",
       "  '순위': 76,\n",
       "  '앨범': 'A-TEEN Part.4',\n",
       "  '곡명': '도망가지마',\n",
       "  '가수': '모트 (Motte)',\n",
       "  '커버이미지_주소': 'https://cdnimg.melon.co.kr/cm/album/images/102/04/722/10204722_500.jpg/melon/resize/120/quality/80/optimize',\n",
       "  '좋아요': 48716},\n",
       " {'곡일련번호': 30721801,\n",
       "  '순위': 77,\n",
       "  '앨범': '돈꽃 OST Part.1',\n",
       "  '곡명': 'My Way',\n",
       "  '가수': '이수 (엠씨 더 맥스)',\n",
       "  '커버이미지_주소': 'https://cdnimg.melon.co.kr/cm/album/images/101/10/396/10110396_500.jpg/melon/resize/120/quality/80/optimize',\n",
       "  '좋아요': 119657},\n",
       " {'곡일련번호': 30514366,\n",
       "  '순위': 78,\n",
       "  '앨범': 'Moonlight',\n",
       "  '곡명': '선물',\n",
       "  '가수': '멜로망스',\n",
       "  '커버이미지_주소': 'https://cdnimg.melon.co.kr/cm/album/images/100/78/176/10078176_500.jpg/melon/resize/120/quality/80/optimize',\n",
       "  '좋아요': 266869},\n",
       " {'곡일련번호': 31227367,\n",
       "  '순위': 79,\n",
       "  '앨범': '미스터 션샤인 OST Part.5',\n",
       "  '곡명': '좋은 날',\n",
       "  '가수': '멜로망스',\n",
       "  '커버이미지_주소': 'https://cdnimg.melon.co.kr/cm/album/images/101/91/294/10191294_500.jpg/melon/resize/120/quality/80/optimize',\n",
       "  '좋아요': 33146},\n",
       " {'곡일련번호': 31113242,\n",
       "  '순위': 80,\n",
       "  '앨범': '1÷χ=1 (UNDIVIDED)',\n",
       "  '곡명': '영원+1 (Prod. NELL)',\n",
       "  '가수': 'Wanna One (워너원) - 린온미',\n",
       "  '커버이미지_주소': 'https://cdnimg.melon.co.kr/cm/album/images/101/73/365/10173365_500.jpg/melon/resize/120/quality/80/optimize',\n",
       "  '좋아요': 76313},\n",
       " {'곡일련번호': 31266377,\n",
       "  '순위': 81,\n",
       "  '앨범': '미스터 션샤인 OST Part.10',\n",
       "  '곡명': 'AND I',\n",
       "  '가수': '뉴이스트 W',\n",
       "  '커버이미지_주소': 'https://cdnimg.melon.co.kr/cm/album/images/101/97/500/10197500_500.jpg/melon/resize/120/quality/80/optimize',\n",
       "  '좋아요': 20736},\n",
       " {'곡일련번호': 31331749,\n",
       "  '순위': 82,\n",
       "  '앨범': 'I Don’t Care (with 스푼즈)',\n",
       "  '곡명': 'I Don’t Care (with 스푼즈)',\n",
       "  '가수': '뉴이스트 W',\n",
       "  '커버이미지_주소': 'https://cdnimg.melon.co.kr/cm/album/images/102/08/359/10208359_500.jpg/melon/resize/120/quality/80/optimize',\n",
       "  '좋아요': 13544},\n",
       " {'곡일련번호': 31147212,\n",
       "  '순위': 83,\n",
       "  '앨범': 'WHO, YOU',\n",
       "  '곡명': '북극성 (Polaris)',\n",
       "  '가수': '뉴이스트 W',\n",
       "  '커버이미지_주소': 'https://cdnimg.melon.co.kr/cm/album/images/101/78/912/10178912_500.jpg/melon/resize/120/quality/80/optimize',\n",
       "  '좋아요': 32098},\n",
       " {'곡일련번호': 30970444,\n",
       "  '순위': 84,\n",
       "  '앨범': '소나기 (Feat. 10cm)',\n",
       "  '곡명': '소나기 (Feat. 10cm)',\n",
       "  '가수': '용준형',\n",
       "  '커버이미지_주소': 'https://cdnimg.melon.co.kr/cm/album/images/101/50/572/10150572_500.jpg/melon/resize/120/quality/80/optimize',\n",
       "  '좋아요': 130935},\n",
       " {'곡일련번호': 31113244,\n",
       "  '순위': 85,\n",
       "  '앨범': '1÷χ=1 (UNDIVIDED)',\n",
       "  '곡명': '11 (Prod. 다이나믹듀오)',\n",
       "  '가수': 'Wanna One (워너원) - 남바완',\n",
       "  '커버이미지_주소': 'https://cdnimg.melon.co.kr/cm/album/images/101/73/365/10173365_500.jpg/melon/resize/120/quality/80/optimize',\n",
       "  '좋아요': 67211},\n",
       " {'곡일련번호': 4032981,\n",
       "  '순위': 86,\n",
       "  '앨범': 'THE SECOND MINI ALBUM `여보세요`',\n",
       "  '곡명': '여보세요',\n",
       "  '가수': 'NU`EST',\n",
       "  '커버이미지_주소': 'https://cdnimg.melon.co.kr/cm/album/images/021/75/137/2175137_500.jpg/melon/resize/120/quality/80/optimize',\n",
       "  '좋아요': 126064},\n",
       " {'곡일련번호': 31299371,\n",
       "  '순위': 87,\n",
       "  '앨범': '라이프 OST Part.6',\n",
       "  '곡명': '잘 지내요',\n",
       "  '가수': '정승환',\n",
       "  '커버이미지_주소': 'https://cdnimg.melon.co.kr/cm/album/images/102/02/962/10202962_500.jpg/melon/resize/120/quality/80/optimize',\n",
       "  '좋아요': 25169},\n",
       " {'곡일련번호': 30806539,\n",
       "  '순위': 88,\n",
       "  '앨범': 'Universe - 겨울 스페셜 앨범, 2017',\n",
       "  '곡명': '지나갈 테니 (Been Through)',\n",
       "  '가수': 'EXO',\n",
       "  '커버이미지_주소': 'https://cdnimg.melon.co.kr/cm/album/images/101/22/917/10122917_500.jpg/melon/resize/120/quality/80/optimize',\n",
       "  '좋아요': 88331},\n",
       " {'곡일련번호': 31324696,\n",
       "  '순위': 89,\n",
       "  '앨범': '연애플레이리스트3 Part.1',\n",
       "  '곡명': 'Perfect',\n",
       "  '가수': '10cm',\n",
       "  '커버이미지_주소': 'https://cdnimg.melon.co.kr/cm/album/images/102/07/153/10207153_500.jpg/melon/resize/120/quality/80/optimize',\n",
       "  '좋아요': 24732},\n",
       " {'곡일련번호': 8111603,\n",
       "  '순위': 90,\n",
       "  '앨범': 'Fitz and The Tantrums (Deluxe)',\n",
       "  '곡명': 'HandClap',\n",
       "  '가수': 'Fitz & The Tantrums',\n",
       "  '커버이미지_주소': 'https://cdnimg.melon.co.kr/cm/album/images/026/75/179/2675179_500.jpg/melon/resize/120/quality/80/optimize',\n",
       "  '좋아요': 156476},\n",
       " {'곡일련번호': 30661885,\n",
       "  '순위': 91,\n",
       "  '앨범': 'W, HERE',\n",
       "  '곡명': 'WHERE YOU AT',\n",
       "  '가수': '뉴이스트 W',\n",
       "  '커버이미지_주소': 'https://cdnimg.melon.co.kr/cm/album/images/101/00/941/10100941_500.jpg/melon/resize/120/quality/80/optimize',\n",
       "  '좋아요': 92753},\n",
       " {'곡일련번호': 31006730,\n",
       "  '순위': 92,\n",
       "  '앨범': 'What is Love?',\n",
       "  '곡명': 'What is Love?',\n",
       "  '가수': 'TWICE (트와이스)',\n",
       "  '커버이미지_주소': 'https://cdnimg.melon.co.kr/cm/album/images/101/56/195/10156195_500.jpg/melon/resize/120/quality/80/optimize',\n",
       "  '좋아요': 121530},\n",
       " {'곡일련번호': 31052421,\n",
       "  '순위': 93,\n",
       "  '앨범': \"여자친구 The 6th Mini Album 'Time for the moon night'\",\n",
       "  '곡명': '밤 (Time for the moon night)',\n",
       "  '가수': '여자친구 (GFRIEND)',\n",
       "  '커버이미지_주소': 'https://cdnimg.melon.co.kr/cm/album/images/101/63/106/10163106_500.jpg/melon/resize/120/quality/80/optimize',\n",
       "  '좋아요': 125760},\n",
       " {'곡일련번호': 31194610,\n",
       "  '순위': 94,\n",
       "  '앨범': 'Blooming Blue',\n",
       "  '곡명': 'Love U',\n",
       "  '가수': '청하',\n",
       "  '커버이미지_주소': 'https://cdnimg.melon.co.kr/cm/album/images/101/86/254/10186254_500.jpg/melon/resize/120/quality/80/optimize',\n",
       "  '좋아요': 61670},\n",
       " {'곡일련번호': 31147210,\n",
       "  '순위': 95,\n",
       "  '앨범': 'WHO, YOU',\n",
       "  '곡명': 'Signal',\n",
       "  '가수': '뉴이스트 W',\n",
       "  '커버이미지_주소': 'https://cdnimg.melon.co.kr/cm/album/images/101/78/912/10178912_500.jpg/melon/resize/120/quality/80/optimize',\n",
       "  '좋아요': 27270},\n",
       " {'곡일련번호': 30937275,\n",
       "  '순위': 96,\n",
       "  '앨범': 'Yellow Flower',\n",
       "  '곡명': '별이 빛나는 밤',\n",
       "  '가수': '마마무(Mamamoo)',\n",
       "  '커버이미지_주소': 'https://cdnimg.melon.co.kr/cm/album/images/101/45/303/10145303_500.jpg/melon/resize/120/quality/80/optimize',\n",
       "  '좋아요': 145494},\n",
       " {'곡일련번호': 31147213,\n",
       "  '순위': 97,\n",
       "  '앨범': 'WHO, YOU',\n",
       "  '곡명': 'ylenoL',\n",
       "  '가수': '뉴이스트 W',\n",
       "  '커버이미지_주소': 'https://cdnimg.melon.co.kr/cm/album/images/101/78/912/10178912_500.jpg/melon/resize/120/quality/80/optimize',\n",
       "  '좋아요': 26136},\n",
       " {'곡일련번호': 31288765,\n",
       "  '순위': 98,\n",
       "  '앨범': '몰랐니 - The 1st Single Album',\n",
       "  '곡명': '몰랐니 (Lil` Touch)',\n",
       "  '가수': '소녀시대-Oh!GG',\n",
       "  '커버이미지_주소': 'https://cdnimg.melon.co.kr/cm/album/images/102/01/272/10201272_500.jpg/melon/resize/120/quality/80/optimize',\n",
       "  '좋아요': 42853},\n",
       " {'곡일련번호': 31147214,\n",
       "  '순위': 99,\n",
       "  '앨범': 'WHO, YOU',\n",
       "  '곡명': '중력달 (Gravity&Moon;)',\n",
       "  '가수': '뉴이스트 W',\n",
       "  '커버이미지_주소': 'https://cdnimg.melon.co.kr/cm/album/images/101/78/912/10178912_500.jpg/melon/resize/120/quality/80/optimize',\n",
       "  '좋아요': 26091},\n",
       " {'곡일련번호': 30806540,\n",
       "  '순위': 100,\n",
       "  '앨범': 'Universe - 겨울 스페셜 앨범, 2017',\n",
       "  '곡명': 'Stay',\n",
       "  '가수': 'EXO',\n",
       "  '커버이미지_주소': 'https://cdnimg.melon.co.kr/cm/album/images/101/22/917/10122917_500.jpg/melon/resize/120/quality/80/optimize',\n",
       "  '좋아요': 81556}]"
      ]
     },
     "execution_count": 97,
     "metadata": {},
     "output_type": "execute_result"
    }
   ],
   "source": [
    "import pandas as pd\n",
    "\n",
    "df = pd.read_csv(\"https://goo.gl/iDUKrL\")\n",
    "data = df.to_dict()\n",
    "columns = data.keys()\n",
    "song_list = [\n",
    "    {column: data[column][idx] for column in columns}\n",
    "    for idx in range(100)]\n",
    "song_list"
   ]
  },
  {
   "cell_type": "code",
   "execution_count": 98,
   "metadata": {},
   "outputs": [
    {
     "data": {
      "text/plain": [
       "100"
      ]
     },
     "execution_count": 98,
     "metadata": {},
     "output_type": "execute_result"
    }
   ],
   "source": [
    "len(song_list)"
   ]
  },
  {
   "cell_type": "code",
   "execution_count": 100,
   "metadata": {},
   "outputs": [
    {
     "data": {
      "text/plain": [
       "{'곡일련번호': 30806540,\n",
       " '순위': 100,\n",
       " '앨범': 'Universe - 겨울 스페셜 앨범, 2017',\n",
       " '곡명': 'Stay',\n",
       " '가수': 'EXO',\n",
       " '커버이미지_주소': 'https://cdnimg.melon.co.kr/cm/album/images/101/22/917/10122917_500.jpg/melon/resize/120/quality/80/optimize',\n",
       " '좋아요': 81556}"
      ]
     },
     "execution_count": 100,
     "metadata": {},
     "output_type": "execute_result"
    }
   ],
   "source": [
    "song_list[-1]"
   ]
  },
  {
   "cell_type": "code",
   "execution_count": null,
   "metadata": {},
   "outputs": [],
   "source": []
  },
  {
   "cell_type": "code",
   "execution_count": 104,
   "metadata": {},
   "outputs": [
    {
     "data": {
      "text/html": [
       "<div>\n",
       "<style scoped>\n",
       "    .dataframe tbody tr th:only-of-type {\n",
       "        vertical-align: middle;\n",
       "    }\n",
       "\n",
       "    .dataframe tbody tr th {\n",
       "        vertical-align: top;\n",
       "    }\n",
       "\n",
       "    .dataframe thead th {\n",
       "        text-align: right;\n",
       "    }\n",
       "</style>\n",
       "<table border=\"1\" class=\"dataframe\">\n",
       "  <thead>\n",
       "    <tr style=\"text-align: right;\">\n",
       "      <th></th>\n",
       "      <th>가수</th>\n",
       "      <th>곡명</th>\n",
       "      <th>곡일련번호</th>\n",
       "      <th>순위</th>\n",
       "      <th>앨범</th>\n",
       "      <th>좋아요</th>\n",
       "      <th>커버이미지_주소</th>\n",
       "    </tr>\n",
       "  </thead>\n",
       "  <tbody>\n",
       "    <tr>\n",
       "      <th>0</th>\n",
       "      <td>아이유</td>\n",
       "      <td>삐삐</td>\n",
       "      <td>31346009</td>\n",
       "      <td>1</td>\n",
       "      <td>삐삐</td>\n",
       "      <td>61528</td>\n",
       "      <td>https://cdnimg.melon.co.kr/cm/album/images/102...</td>\n",
       "    </tr>\n",
       "    <tr>\n",
       "      <th>1</th>\n",
       "      <td>로꼬</td>\n",
       "      <td>시간이 들겠지 (Feat. Colde)</td>\n",
       "      <td>31344113</td>\n",
       "      <td>2</td>\n",
       "      <td>시간이 들겠지</td>\n",
       "      <td>48331</td>\n",
       "      <td>https://cdnimg.melon.co.kr/cm/album/images/102...</td>\n",
       "    </tr>\n",
       "    <tr>\n",
       "      <th>2</th>\n",
       "      <td>pH-1</td>\n",
       "      <td>Good Day (Feat. 팔로알토) (Prod. 코드 쿤스트)</td>\n",
       "      <td>31340985</td>\n",
       "      <td>3</td>\n",
       "      <td>쇼미더머니 777 Episode 1</td>\n",
       "      <td>54022</td>\n",
       "      <td>https://cdnimg.melon.co.kr/cm/album/images/102...</td>\n",
       "    </tr>\n",
       "    <tr>\n",
       "      <th>3</th>\n",
       "      <td>임창정</td>\n",
       "      <td>하루도 그대를 사랑하지 않은 적이 없었다</td>\n",
       "      <td>31316695</td>\n",
       "      <td>4</td>\n",
       "      <td>하루도 그대를 사랑하지 않은 적이 없었다</td>\n",
       "      <td>97984</td>\n",
       "      <td>https://cdnimg.melon.co.kr/cm/album/images/102...</td>\n",
       "    </tr>\n",
       "    <tr>\n",
       "      <th>4</th>\n",
       "      <td>방탄소년단</td>\n",
       "      <td>IDOL</td>\n",
       "      <td>31266290</td>\n",
       "      <td>5</td>\n",
       "      <td>LOVE YOURSELF 結 `Answer`</td>\n",
       "      <td>173279</td>\n",
       "      <td>https://cdnimg.melon.co.kr/cm/album/images/101...</td>\n",
       "    </tr>\n",
       "  </tbody>\n",
       "</table>\n",
       "</div>"
      ],
      "text/plain": [
       "      가수                                    곡명     곡일련번호  순위  \\\n",
       "0    아이유                                    삐삐  31346009   1   \n",
       "1     로꼬                 시간이 들겠지 (Feat. Colde)  31344113   2   \n",
       "2   pH-1  Good Day (Feat. 팔로알토) (Prod. 코드 쿤스트)  31340985   3   \n",
       "3    임창정                하루도 그대를 사랑하지 않은 적이 없었다  31316695   4   \n",
       "4  방탄소년단                                  IDOL  31266290   5   \n",
       "\n",
       "                         앨범     좋아요  \\\n",
       "0                        삐삐   61528   \n",
       "1                   시간이 들겠지   48331   \n",
       "2       쇼미더머니 777 Episode 1   54022   \n",
       "3    하루도 그대를 사랑하지 않은 적이 없었다   97984   \n",
       "4  LOVE YOURSELF 結 `Answer`  173279   \n",
       "\n",
       "                                            커버이미지_주소  \n",
       "0  https://cdnimg.melon.co.kr/cm/album/images/102...  \n",
       "1  https://cdnimg.melon.co.kr/cm/album/images/102...  \n",
       "2  https://cdnimg.melon.co.kr/cm/album/images/102...  \n",
       "3  https://cdnimg.melon.co.kr/cm/album/images/102...  \n",
       "4  https://cdnimg.melon.co.kr/cm/album/images/101...  "
      ]
     },
     "execution_count": 104,
     "metadata": {},
     "output_type": "execute_result"
    }
   ],
   "source": [
    "df_melon = pd.DataFrame(song_list)\n",
    "df_melon.to_excel(\"멜론_TOP100.xlsx\")\n",
    "df_melon.head()  # 처음 5행만 보기"
   ]
  },
  {
   "cell_type": "code",
   "execution_count": null,
   "metadata": {},
   "outputs": [],
   "source": []
  },
  {
   "cell_type": "markdown",
   "metadata": {},
   "source": [
    "# 조건문 (if 문)"
   ]
  },
  {
   "cell_type": "code",
   "execution_count": 112,
   "metadata": {},
   "outputs": [
    {
     "name": "stdout",
     "output_type": "stream",
     "text": [
      "짝수입니다.\n"
     ]
    }
   ],
   "source": [
    "숫자 = 10\n",
    "\n",
    "if 숫자 % 2 == 0:\n",
    "    print(\"짝수입니다.\")  # 파이썬은 들여쓰기(Indentation)을 강제\n",
    "\n",
    "if 숫자 % 2 != 0:\n",
    "    print(\"홀수입니다.\")"
   ]
  },
  {
   "cell_type": "code",
   "execution_count": 114,
   "metadata": {},
   "outputs": [
    {
     "name": "stdout",
     "output_type": "stream",
     "text": [
      "짝수입니다.\n"
     ]
    }
   ],
   "source": [
    "숫자 = 10\n",
    "\n",
    "if 숫자 % 2 == 0:\n",
    "    print(\"짝수입니다.\")  # 파이썬은 들여쓰기(Indentation)을 강제\n",
    "else:\n",
    "    print(\"홀수입니다.\")"
   ]
  },
  {
   "cell_type": "code",
   "execution_count": null,
   "metadata": {},
   "outputs": [],
   "source": []
  },
  {
   "cell_type": "code",
   "execution_count": null,
   "metadata": {},
   "outputs": [],
   "source": []
  },
  {
   "cell_type": "code",
   "execution_count": null,
   "metadata": {},
   "outputs": [],
   "source": []
  }
 ],
 "metadata": {
  "kernelspec": {
   "display_name": "Python 3",
   "language": "python",
   "name": "python3"
  },
  "language_info": {
   "codemirror_mode": {
    "name": "ipython",
    "version": 3
   },
   "file_extension": ".py",
   "mimetype": "text/x-python",
   "name": "python",
   "nbconvert_exporter": "python",
   "pygments_lexer": "ipython3",
   "version": "3.7.2"
  }
 },
 "nbformat": 4,
 "nbformat_minor": 2
}
