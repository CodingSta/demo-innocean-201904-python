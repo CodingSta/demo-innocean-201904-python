{
 "cells": [
  {
   "cell_type": "code",
   "execution_count": 13,
   "metadata": {},
   "outputs": [
    {
     "data": {
      "text/plain": [
       "<telegram.message.Message at 0x10bc06da0>"
      ]
     },
     "execution_count": 13,
     "metadata": {},
     "output_type": "execute_result"
    }
   ],
   "source": [
    "import telegram\n",
    "\n",
    "텔레그램_인증토큰 = None  # FIXME: 각자의 토큰을 지정해주세요.\n",
    "\n",
    "chat_id = \"42478249\"  # 텔레그램 채팅방의 아이디\n",
    "\n",
    "bot = telegram.Bot(텔레그램_인증토큰)\n",
    "bot.sendMessage(chat_id=chat_id, text=\"반갑습니다. :D\")"
   ]
  },
  {
   "cell_type": "code",
   "execution_count": 4,
   "metadata": {},
   "outputs": [
    {
     "name": "stdout",
     "output_type": "stream",
     "text": [
      "chat_id : 42478249\n",
      "{'message_id': 9, 'date': 1555562468, 'chat': {'id': 42478249, 'type': 'private', 'username': 'allieus', 'first_name': 'Chinseok'}, 'text': 'hello', 'entities': [], 'caption_entities': [], 'photo': [], 'new_chat_members': [], 'new_chat_photo': [], 'delete_chat_photo': False, 'group_chat_created': False, 'supergroup_chat_created': False, 'channel_chat_created': False, 'from': {'id': 42478249, 'first_name': 'Chinseok', 'is_bot': False, 'username': 'allieus', 'language_code': 'en'}}\n"
     ]
    }
   ],
   "source": [
    "for update in bot.getUpdates():\n",
    "    print(\"chat_id :\", update.message.chat.id)\n",
    "    print(update.message)"
   ]
  },
  {
   "cell_type": "code",
   "execution_count": null,
   "metadata": {},
   "outputs": [],
   "source": []
  },
  {
   "cell_type": "code",
   "execution_count": null,
   "metadata": {},
   "outputs": [],
   "source": [
    "!pip3 install requests beautifulsoup4"
   ]
  },
  {
   "cell_type": "code",
   "execution_count": 6,
   "metadata": {},
   "outputs": [],
   "source": [
    "import requests\n",
    "from bs4 import BeautifulSoup\n",
    "\n",
    "def naver_realtime_keywords():\n",
    "    url = \"http://naver.com\"\n",
    "    res = requests.get(url)\n",
    "    html = res.text\n",
    "    soup = BeautifulSoup(html, 'html.parser')\n",
    "    tag_list = soup.select(\".PM_CL_realtimeKeyword_rolling_base .ah_k\")\n",
    "    keyword_list = [tag.text for tag in tag_list]\n",
    "    return keyword_list"
   ]
  },
  {
   "cell_type": "code",
   "execution_count": 14,
   "metadata": {},
   "outputs": [
    {
     "data": {
      "text/plain": [
       "<telegram.message.Message at 0x10bc72860>"
      ]
     },
     "execution_count": 14,
     "metadata": {},
     "output_type": "execute_result"
    }
   ],
   "source": [
    "message = \"\\n\".join(naver_realtime_keywords())\n",
    "bot.sendMessage(chat_id=chat_id, text=message)"
   ]
  },
  {
   "cell_type": "code",
   "execution_count": null,
   "metadata": {},
   "outputs": [],
   "source": []
  },
  {
   "cell_type": "markdown",
   "metadata": {},
   "source": [
    "# 기본 데이터 타입\n",
    "\n",
    "+ 문자열 : str\n",
    "+ 정수 : int\n",
    "+ 실수 : float\n",
    "+ 참/거짓 : bool\n",
    "+ None"
   ]
  },
  {
   "cell_type": "markdown",
   "metadata": {},
   "source": [
    "# 기본 자료구조\n",
    "\n",
    "+ list\n",
    "+ tuple\n",
    "+ set\n",
    "+ dict"
   ]
  },
  {
   "cell_type": "code",
   "execution_count": 17,
   "metadata": {},
   "outputs": [
    {
     "data": {
      "text/plain": [
       "['오로나민C', '알바천국', '베이컨박스', 'LG유플러스 5G']"
      ]
     },
     "execution_count": 17,
     "metadata": {},
     "output_type": "execute_result"
    }
   ],
   "source": [
    "# 리스트\n",
    "#  순서가 있는 자료구조\n",
    "#  임의로 항목들을 추가/수정/삭제\n",
    "[\"오로나민C\", \"알바천국\", \"베이컨박스\", \"LG유플러스 5G\"]"
   ]
  },
  {
   "cell_type": "code",
   "execution_count": 20,
   "metadata": {},
   "outputs": [
    {
     "data": {
      "text/plain": [
       "['김철수', '비타민', '이영희', '스티브', '잡스', '이진석']"
      ]
     },
     "execution_count": 20,
     "metadata": {},
     "output_type": "execute_result"
    }
   ],
   "source": [
    "학생_목록 = [\"김철수\", \"이영희\", \"스티브\", \"잡스\"]\n",
    "학생_목록.append(\"이진석\")  # 끝에 추가\n",
    "학생_목록.insert(1, \"비타민\")\n",
    "학생_목록"
   ]
  },
  {
   "cell_type": "code",
   "execution_count": 30,
   "metadata": {},
   "outputs": [
    {
     "data": {
      "text/plain": [
       "'이진석'"
      ]
     },
     "execution_count": 30,
     "metadata": {},
     "output_type": "execute_result"
    }
   ],
   "source": [
    "학생_목록[5]"
   ]
  },
  {
   "cell_type": "code",
   "execution_count": 31,
   "metadata": {},
   "outputs": [
    {
     "data": {
      "text/plain": [
       "['김치찌개', '묵은지', '곰탕', '순대국밥', '곱창', '소주', '맥주', '부침개', '비타민워터', '호떡']"
      ]
     },
     "execution_count": 31,
     "metadata": {},
     "output_type": "execute_result"
    }
   ],
   "source": [
    "내가_좋아하는_음식_목록 = [\n",
    "    \"김치찌개\", \"묵은지\", \"곰탕\", \"순대국밥\", \"곱창\",\n",
    "    \"소주\", \"맥주\", \"부침개\", \"비타민워터\", \"호떡\",\n",
    "]\n",
    "내가_좋아하는_음식_목록"
   ]
  },
  {
   "cell_type": "code",
   "execution_count": 32,
   "metadata": {},
   "outputs": [
    {
     "data": {
      "text/plain": [
       "10"
      ]
     },
     "execution_count": 32,
     "metadata": {},
     "output_type": "execute_result"
    }
   ],
   "source": [
    "len(내가_좋아하는_음식_목록)"
   ]
  },
  {
   "cell_type": "code",
   "execution_count": 33,
   "metadata": {},
   "outputs": [
    {
     "data": {
      "text/plain": [
       "'김치찌개'"
      ]
     },
     "execution_count": 33,
     "metadata": {},
     "output_type": "execute_result"
    }
   ],
   "source": [
    "내가_좋아하는_음식_목록[0]"
   ]
  },
  {
   "cell_type": "code",
   "execution_count": 34,
   "metadata": {},
   "outputs": [
    {
     "data": {
      "text/plain": [
       "'묵은지'"
      ]
     },
     "execution_count": 34,
     "metadata": {},
     "output_type": "execute_result"
    }
   ],
   "source": [
    "내가_좋아하는_음식_목록[1]"
   ]
  },
  {
   "cell_type": "code",
   "execution_count": 35,
   "metadata": {},
   "outputs": [
    {
     "data": {
      "text/plain": [
       "'호떡'"
      ]
     },
     "execution_count": 35,
     "metadata": {},
     "output_type": "execute_result"
    }
   ],
   "source": [
    "내가_좋아하는_음식_목록[9]"
   ]
  },
  {
   "cell_type": "code",
   "execution_count": 38,
   "metadata": {},
   "outputs": [
    {
     "data": {
      "text/plain": [
       "'호떡'"
      ]
     },
     "execution_count": 38,
     "metadata": {},
     "output_type": "execute_result"
    }
   ],
   "source": [
    "last_idx = len(내가_좋아하는_음식_목록) - 1\n",
    "내가_좋아하는_음식_목록[last_idx]"
   ]
  },
  {
   "cell_type": "code",
   "execution_count": 39,
   "metadata": {},
   "outputs": [
    {
     "data": {
      "text/plain": [
       "'호떡'"
      ]
     },
     "execution_count": 39,
     "metadata": {},
     "output_type": "execute_result"
    }
   ],
   "source": [
    "내가_좋아하는_음식_목록[len(내가_좋아하는_음식_목록) - 1]"
   ]
  },
  {
   "cell_type": "code",
   "execution_count": 40,
   "metadata": {},
   "outputs": [
    {
     "data": {
      "text/plain": [
       "'호떡'"
      ]
     },
     "execution_count": 40,
     "metadata": {},
     "output_type": "execute_result"
    }
   ],
   "source": [
    "내가_좋아하는_음식_목록[-1]"
   ]
  },
  {
   "cell_type": "markdown",
   "metadata": {},
   "source": [
    "# tvcf.co.kr 에서 베스트 CF 목록"
   ]
  },
  {
   "cell_type": "code",
   "execution_count": null,
   "metadata": {},
   "outputs": [],
   "source": [
    "!pip3 install pandas"
   ]
  },
  {
   "cell_type": "code",
   "execution_count": 43,
   "metadata": {},
   "outputs": [],
   "source": [
    "import pandas as pd"
   ]
  },
  {
   "cell_type": "code",
   "execution_count": 44,
   "metadata": {},
   "outputs": [
    {
     "data": {
      "text/plain": [
       "64"
      ]
     },
     "execution_count": 44,
     "metadata": {},
     "output_type": "execute_result"
    }
   ],
   "source": [
    "res = requests.get(\"https://www.tvcf.co.kr/Ranking/Total/List.asp\")\n",
    "html = res.text\n",
    "soup = BeautifulSoup(html, \"html.parser\")\n",
    "tag_list = soup.select(\"#goContents li\")\n",
    "len(tag_list)"
   ]
  },
  {
   "cell_type": "code",
   "execution_count": 45,
   "metadata": {},
   "outputs": [
    {
     "data": {
      "text/plain": [
       "64"
      ]
     },
     "execution_count": 45,
     "metadata": {},
     "output_type": "execute_result"
    }
   ],
   "source": [
    "cf_list = []\n",
    "\n",
    "for tag in tag_list:\n",
    "    date = pd.to_datetime(tag.select_one(\".thum_date01\").text)\n",
    "    url = tag.select_one(\"[target=_blank]\")['href']\n",
    "    cf_id = url.rsplit('/', 1)[-1]\n",
    "    title = tag.select_one(\".title_fix04\").text\n",
    "    score = int(tag.select_one(\".ranking_num01\").text)\n",
    "    is_down = tag.select_one(\".blueA\") != None\n",
    "    is_up = tag.select_one(\".redA\") != None\n",
    "    cf = {\n",
    "        'date': date,\n",
    "        'url': url,\n",
    "        'cf_id': cf_id,\n",
    "        'title': title,\n",
    "        'score': score,\n",
    "        'is_down': is_down,\n",
    "        'is_up': is_up,\n",
    "    }\n",
    "    cf_list.append(cf)\n",
    "\n",
    "len(cf_list)"
   ]
  },
  {
   "cell_type": "code",
   "execution_count": null,
   "metadata": {},
   "outputs": [],
   "source": []
  },
  {
   "cell_type": "code",
   "execution_count": null,
   "metadata": {},
   "outputs": [],
   "source": []
  },
  {
   "cell_type": "code",
   "execution_count": null,
   "metadata": {},
   "outputs": [],
   "source": []
  },
  {
   "cell_type": "code",
   "execution_count": null,
   "metadata": {},
   "outputs": [],
   "source": []
  },
  {
   "cell_type": "code",
   "execution_count": null,
   "metadata": {},
   "outputs": [],
   "source": []
  },
  {
   "cell_type": "code",
   "execution_count": null,
   "metadata": {},
   "outputs": [],
   "source": []
  }
 ],
 "metadata": {
  "kernelspec": {
   "display_name": "Python 3",
   "language": "python",
   "name": "python3"
  },
  "language_info": {
   "codemirror_mode": {
    "name": "ipython",
    "version": 3
   },
   "file_extension": ".py",
   "mimetype": "text/x-python",
   "name": "python",
   "nbconvert_exporter": "python",
   "pygments_lexer": "ipython3",
   "version": "3.7.2"
  }
 },
 "nbformat": 4,
 "nbformat_minor": 2
}
